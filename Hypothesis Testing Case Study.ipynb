{
 "cells": [
  {
   "cell_type": "code",
   "execution_count": 1,
   "id": "3529512f",
   "metadata": {},
   "outputs": [],
   "source": [
    "import numpy as np\n",
    "import pandas as pd\n",
    "import datetime as dt\n",
    "import scipy.stats as stats\n",
    "import warnings \n",
    "warnings.filterwarnings('ignore')"
   ]
  },
  {
   "cell_type": "raw",
   "id": "199a69fe",
   "metadata": {},
   "source": [
    "BUSINESS PROBLEM 1\n",
    "\n",
    "\n",
    "a. Intrest rate is varied for different loan amounts (Less intrest charged for high loan amounts)\n",
    "b. Loan length is directly effecting intrest rate.\n",
    "c. Inrest rate varies for different purpose of loans\n",
    "d. There is relationship between FICO scores and Home Ownership. It means that, People with owning home will have high FICO scores."
   ]
  },
  {
   "cell_type": "markdown",
   "id": "e797090e",
   "metadata": {},
   "source": [
    "# Import Data"
   ]
  },
  {
   "cell_type": "code",
   "execution_count": 2,
   "id": "00864ae8",
   "metadata": {},
   "outputs": [
    {
     "data": {
      "text/html": [
       "<div>\n",
       "<style scoped>\n",
       "    .dataframe tbody tr th:only-of-type {\n",
       "        vertical-align: middle;\n",
       "    }\n",
       "\n",
       "    .dataframe tbody tr th {\n",
       "        vertical-align: top;\n",
       "    }\n",
       "\n",
       "    .dataframe thead th {\n",
       "        text-align: right;\n",
       "    }\n",
       "</style>\n",
       "<table border=\"1\" class=\"dataframe\">\n",
       "  <thead>\n",
       "    <tr style=\"text-align: right;\">\n",
       "      <th></th>\n",
       "      <th>Amount.Requested</th>\n",
       "      <th>Amount.Funded.By.Investors</th>\n",
       "      <th>Interest.Rate</th>\n",
       "      <th>Loan.Length</th>\n",
       "      <th>Loan.Purpose</th>\n",
       "      <th>Debt.To.Income.Ratio</th>\n",
       "      <th>State</th>\n",
       "      <th>Home.Ownership</th>\n",
       "      <th>Monthly.Income</th>\n",
       "      <th>FICO.Range</th>\n",
       "      <th>Open.CREDIT.Lines</th>\n",
       "      <th>Revolving.CREDIT.Balance</th>\n",
       "      <th>Inquiries.in.the.Last.6.Months</th>\n",
       "      <th>Employment.Length</th>\n",
       "    </tr>\n",
       "  </thead>\n",
       "  <tbody>\n",
       "    <tr>\n",
       "      <th>0</th>\n",
       "      <td>20000.0</td>\n",
       "      <td>20000.00</td>\n",
       "      <td>8.90%</td>\n",
       "      <td>36 months</td>\n",
       "      <td>debt_consolidation</td>\n",
       "      <td>14.90%</td>\n",
       "      <td>SC</td>\n",
       "      <td>MORTGAGE</td>\n",
       "      <td>6541.67</td>\n",
       "      <td>735-739</td>\n",
       "      <td>14.0</td>\n",
       "      <td>14272.0</td>\n",
       "      <td>2.0</td>\n",
       "      <td>&lt; 1 year</td>\n",
       "    </tr>\n",
       "    <tr>\n",
       "      <th>1</th>\n",
       "      <td>19200.0</td>\n",
       "      <td>19200.00</td>\n",
       "      <td>12.12%</td>\n",
       "      <td>36 months</td>\n",
       "      <td>debt_consolidation</td>\n",
       "      <td>28.36%</td>\n",
       "      <td>TX</td>\n",
       "      <td>MORTGAGE</td>\n",
       "      <td>4583.33</td>\n",
       "      <td>715-719</td>\n",
       "      <td>12.0</td>\n",
       "      <td>11140.0</td>\n",
       "      <td>1.0</td>\n",
       "      <td>2 years</td>\n",
       "    </tr>\n",
       "    <tr>\n",
       "      <th>2</th>\n",
       "      <td>35000.0</td>\n",
       "      <td>35000.00</td>\n",
       "      <td>21.98%</td>\n",
       "      <td>60 months</td>\n",
       "      <td>debt_consolidation</td>\n",
       "      <td>23.81%</td>\n",
       "      <td>CA</td>\n",
       "      <td>MORTGAGE</td>\n",
       "      <td>11500.00</td>\n",
       "      <td>690-694</td>\n",
       "      <td>14.0</td>\n",
       "      <td>21977.0</td>\n",
       "      <td>1.0</td>\n",
       "      <td>2 years</td>\n",
       "    </tr>\n",
       "    <tr>\n",
       "      <th>3</th>\n",
       "      <td>10000.0</td>\n",
       "      <td>9975.00</td>\n",
       "      <td>9.99%</td>\n",
       "      <td>36 months</td>\n",
       "      <td>debt_consolidation</td>\n",
       "      <td>14.30%</td>\n",
       "      <td>KS</td>\n",
       "      <td>MORTGAGE</td>\n",
       "      <td>3833.33</td>\n",
       "      <td>695-699</td>\n",
       "      <td>10.0</td>\n",
       "      <td>9346.0</td>\n",
       "      <td>0.0</td>\n",
       "      <td>5 years</td>\n",
       "    </tr>\n",
       "    <tr>\n",
       "      <th>4</th>\n",
       "      <td>12000.0</td>\n",
       "      <td>12000.00</td>\n",
       "      <td>11.71%</td>\n",
       "      <td>36 months</td>\n",
       "      <td>credit_card</td>\n",
       "      <td>18.78%</td>\n",
       "      <td>NJ</td>\n",
       "      <td>RENT</td>\n",
       "      <td>3195.00</td>\n",
       "      <td>695-699</td>\n",
       "      <td>11.0</td>\n",
       "      <td>14469.0</td>\n",
       "      <td>0.0</td>\n",
       "      <td>9 years</td>\n",
       "    </tr>\n",
       "    <tr>\n",
       "      <th>...</th>\n",
       "      <td>...</td>\n",
       "      <td>...</td>\n",
       "      <td>...</td>\n",
       "      <td>...</td>\n",
       "      <td>...</td>\n",
       "      <td>...</td>\n",
       "      <td>...</td>\n",
       "      <td>...</td>\n",
       "      <td>...</td>\n",
       "      <td>...</td>\n",
       "      <td>...</td>\n",
       "      <td>...</td>\n",
       "      <td>...</td>\n",
       "      <td>...</td>\n",
       "    </tr>\n",
       "    <tr>\n",
       "      <th>2495</th>\n",
       "      <td>30000.0</td>\n",
       "      <td>29950.00</td>\n",
       "      <td>16.77%</td>\n",
       "      <td>60 months</td>\n",
       "      <td>debt_consolidation</td>\n",
       "      <td>19.23%</td>\n",
       "      <td>NY</td>\n",
       "      <td>MORTGAGE</td>\n",
       "      <td>9250.00</td>\n",
       "      <td>705-709</td>\n",
       "      <td>15.0</td>\n",
       "      <td>45880.0</td>\n",
       "      <td>1.0</td>\n",
       "      <td>8 years</td>\n",
       "    </tr>\n",
       "    <tr>\n",
       "      <th>2496</th>\n",
       "      <td>16000.0</td>\n",
       "      <td>16000.00</td>\n",
       "      <td>14.09%</td>\n",
       "      <td>60 months</td>\n",
       "      <td>home_improvement</td>\n",
       "      <td>21.54%</td>\n",
       "      <td>MD</td>\n",
       "      <td>OWN</td>\n",
       "      <td>8903.25</td>\n",
       "      <td>740-744</td>\n",
       "      <td>18.0</td>\n",
       "      <td>18898.0</td>\n",
       "      <td>1.0</td>\n",
       "      <td>10+ years</td>\n",
       "    </tr>\n",
       "    <tr>\n",
       "      <th>2497</th>\n",
       "      <td>10000.0</td>\n",
       "      <td>10000.00</td>\n",
       "      <td>13.99%</td>\n",
       "      <td>36 months</td>\n",
       "      <td>debt_consolidation</td>\n",
       "      <td>4.89%</td>\n",
       "      <td>PA</td>\n",
       "      <td>MORTGAGE</td>\n",
       "      <td>2166.67</td>\n",
       "      <td>680-684</td>\n",
       "      <td>4.0</td>\n",
       "      <td>4544.0</td>\n",
       "      <td>0.0</td>\n",
       "      <td>10+ years</td>\n",
       "    </tr>\n",
       "    <tr>\n",
       "      <th>2498</th>\n",
       "      <td>6000.0</td>\n",
       "      <td>6000.00</td>\n",
       "      <td>12.42%</td>\n",
       "      <td>36 months</td>\n",
       "      <td>major_purchase</td>\n",
       "      <td>16.66%</td>\n",
       "      <td>NJ</td>\n",
       "      <td>RENT</td>\n",
       "      <td>3500.00</td>\n",
       "      <td>675-679</td>\n",
       "      <td>8.0</td>\n",
       "      <td>7753.0</td>\n",
       "      <td>0.0</td>\n",
       "      <td>5 years</td>\n",
       "    </tr>\n",
       "    <tr>\n",
       "      <th>2499</th>\n",
       "      <td>9000.0</td>\n",
       "      <td>5242.75</td>\n",
       "      <td>13.79%</td>\n",
       "      <td>36 months</td>\n",
       "      <td>debt_consolidation</td>\n",
       "      <td>6.76%</td>\n",
       "      <td>NY</td>\n",
       "      <td>RENT</td>\n",
       "      <td>3875.00</td>\n",
       "      <td>670-674</td>\n",
       "      <td>7.0</td>\n",
       "      <td>7589.0</td>\n",
       "      <td>0.0</td>\n",
       "      <td>10+ years</td>\n",
       "    </tr>\n",
       "  </tbody>\n",
       "</table>\n",
       "<p>2500 rows × 14 columns</p>\n",
       "</div>"
      ],
      "text/plain": [
       "      Amount.Requested  Amount.Funded.By.Investors Interest.Rate Loan.Length  \\\n",
       "0              20000.0                    20000.00         8.90%   36 months   \n",
       "1              19200.0                    19200.00        12.12%   36 months   \n",
       "2              35000.0                    35000.00        21.98%   60 months   \n",
       "3              10000.0                     9975.00         9.99%   36 months   \n",
       "4              12000.0                    12000.00        11.71%   36 months   \n",
       "...                ...                         ...           ...         ...   \n",
       "2495           30000.0                    29950.00        16.77%   60 months   \n",
       "2496           16000.0                    16000.00        14.09%   60 months   \n",
       "2497           10000.0                    10000.00        13.99%   36 months   \n",
       "2498            6000.0                     6000.00        12.42%   36 months   \n",
       "2499            9000.0                     5242.75        13.79%   36 months   \n",
       "\n",
       "            Loan.Purpose Debt.To.Income.Ratio State Home.Ownership  \\\n",
       "0     debt_consolidation               14.90%    SC       MORTGAGE   \n",
       "1     debt_consolidation               28.36%    TX       MORTGAGE   \n",
       "2     debt_consolidation               23.81%    CA       MORTGAGE   \n",
       "3     debt_consolidation               14.30%    KS       MORTGAGE   \n",
       "4            credit_card               18.78%    NJ           RENT   \n",
       "...                  ...                  ...   ...            ...   \n",
       "2495  debt_consolidation               19.23%    NY       MORTGAGE   \n",
       "2496    home_improvement               21.54%    MD            OWN   \n",
       "2497  debt_consolidation                4.89%    PA       MORTGAGE   \n",
       "2498      major_purchase               16.66%    NJ           RENT   \n",
       "2499  debt_consolidation                6.76%    NY           RENT   \n",
       "\n",
       "      Monthly.Income FICO.Range  Open.CREDIT.Lines  Revolving.CREDIT.Balance  \\\n",
       "0            6541.67    735-739               14.0                   14272.0   \n",
       "1            4583.33    715-719               12.0                   11140.0   \n",
       "2           11500.00    690-694               14.0                   21977.0   \n",
       "3            3833.33    695-699               10.0                    9346.0   \n",
       "4            3195.00    695-699               11.0                   14469.0   \n",
       "...              ...        ...                ...                       ...   \n",
       "2495         9250.00    705-709               15.0                   45880.0   \n",
       "2496         8903.25    740-744               18.0                   18898.0   \n",
       "2497         2166.67    680-684                4.0                    4544.0   \n",
       "2498         3500.00    675-679                8.0                    7753.0   \n",
       "2499         3875.00    670-674                7.0                    7589.0   \n",
       "\n",
       "      Inquiries.in.the.Last.6.Months Employment.Length  \n",
       "0                                2.0          < 1 year  \n",
       "1                                1.0           2 years  \n",
       "2                                1.0           2 years  \n",
       "3                                0.0           5 years  \n",
       "4                                0.0           9 years  \n",
       "...                              ...               ...  \n",
       "2495                             1.0           8 years  \n",
       "2496                             1.0         10+ years  \n",
       "2497                             0.0         10+ years  \n",
       "2498                             0.0           5 years  \n",
       "2499                             0.0         10+ years  \n",
       "\n",
       "[2500 rows x 14 columns]"
      ]
     },
     "execution_count": 2,
     "metadata": {},
     "output_type": "execute_result"
    }
   ],
   "source": [
    "loan=pd.read_csv(r'C:\\Users\\Deepika\\Downloads\\PYTHON\\LoansData.csv')\n",
    "loan"
   ]
  },
  {
   "cell_type": "markdown",
   "id": "cba2d777",
   "metadata": {},
   "source": [
    "# Data Audit"
   ]
  },
  {
   "cell_type": "code",
   "execution_count": 3,
   "id": "385df159",
   "metadata": {},
   "outputs": [
    {
     "name": "stdout",
     "output_type": "stream",
     "text": [
      "<class 'pandas.core.frame.DataFrame'>\n",
      "RangeIndex: 2500 entries, 0 to 2499\n",
      "Data columns (total 14 columns):\n",
      " #   Column                          Non-Null Count  Dtype  \n",
      "---  ------                          --------------  -----  \n",
      " 0   Amount.Requested                2499 non-null   float64\n",
      " 1   Amount.Funded.By.Investors      2499 non-null   float64\n",
      " 2   Interest.Rate                   2498 non-null   object \n",
      " 3   Loan.Length                     2500 non-null   object \n",
      " 4   Loan.Purpose                    2500 non-null   object \n",
      " 5   Debt.To.Income.Ratio            2499 non-null   object \n",
      " 6   State                           2500 non-null   object \n",
      " 7   Home.Ownership                  2499 non-null   object \n",
      " 8   Monthly.Income                  2499 non-null   float64\n",
      " 9   FICO.Range                      2498 non-null   object \n",
      " 10  Open.CREDIT.Lines               2497 non-null   float64\n",
      " 11  Revolving.CREDIT.Balance        2497 non-null   float64\n",
      " 12  Inquiries.in.the.Last.6.Months  2497 non-null   float64\n",
      " 13  Employment.Length               2423 non-null   object \n",
      "dtypes: float64(6), object(8)\n",
      "memory usage: 273.6+ KB\n"
     ]
    }
   ],
   "source": [
    "loan.info()"
   ]
  },
  {
   "cell_type": "code",
   "execution_count": 4,
   "id": "902fcbd0",
   "metadata": {},
   "outputs": [
    {
     "data": {
      "text/plain": [
       "Amount.Requested                  float64\n",
       "Amount.Funded.By.Investors        float64\n",
       "Interest.Rate                      object\n",
       "Loan.Length                        object\n",
       "Loan.Purpose                       object\n",
       "Debt.To.Income.Ratio               object\n",
       "State                              object\n",
       "Home.Ownership                     object\n",
       "Monthly.Income                    float64\n",
       "FICO.Range                         object\n",
       "Open.CREDIT.Lines                 float64\n",
       "Revolving.CREDIT.Balance          float64\n",
       "Inquiries.in.the.Last.6.Months    float64\n",
       "Employment.Length                  object\n",
       "dtype: object"
      ]
     },
     "execution_count": 4,
     "metadata": {},
     "output_type": "execute_result"
    }
   ],
   "source": [
    "loan.dtypes"
   ]
  },
  {
   "cell_type": "code",
   "execution_count": 5,
   "id": "14569429",
   "metadata": {},
   "outputs": [
    {
     "data": {
      "text/plain": [
       "Amount.Requested                   1\n",
       "Amount.Funded.By.Investors         1\n",
       "Interest.Rate                      2\n",
       "Loan.Length                        0\n",
       "Loan.Purpose                       0\n",
       "Debt.To.Income.Ratio               1\n",
       "State                              0\n",
       "Home.Ownership                     1\n",
       "Monthly.Income                     1\n",
       "FICO.Range                         2\n",
       "Open.CREDIT.Lines                  3\n",
       "Revolving.CREDIT.Balance           3\n",
       "Inquiries.in.the.Last.6.Months     3\n",
       "Employment.Length                 77\n",
       "dtype: int64"
      ]
     },
     "execution_count": 5,
     "metadata": {},
     "output_type": "execute_result"
    }
   ],
   "source": [
    "loan.isna().sum()"
   ]
  },
  {
   "cell_type": "markdown",
   "id": "29181083",
   "metadata": {},
   "source": [
    "# Data Cleaning"
   ]
  },
  {
   "cell_type": "code",
   "execution_count": 6,
   "id": "9cb50fdd",
   "metadata": {},
   "outputs": [],
   "source": [
    "loan.rename({'Amount.Requested':'Amount_Requested','Amount.Funded.By.Investors':'Amount_Funded_By_Investors','Interest.Rate':'Interest_Rate','Loan.Length':'Loan_Length','Loan.Purpose':'Loan_Purpose'\n",
    "            ,'Loan.Purpose':'Loan_Purpose','Debt.To.Income.Ratio':'Debt_To_income_Ratio','Home.Ownership':'Home_Ownership'\n",
    "            ,'Monthly.Income':'Monthly_Income','FICO.Range':'FICO_Range','Open.CREDIT.Lines':'Open_CREDIT_Lines',\n",
    "            'Revolving.CREDIT.Balance':'Revolving_CREDIT_Balance','Inquiries.in.the.Last.6.Months':'Inquiries_in_the_Last_6_Months',\n",
    "            'Employment.Length':'Employment_Length'},axis=\"columns\",inplace=True)"
   ]
  },
  {
   "cell_type": "code",
   "execution_count": 7,
   "id": "a6737a8a",
   "metadata": {},
   "outputs": [
    {
     "data": {
      "text/plain": [
       "Index(['Amount_Requested', 'Amount_Funded_By_Investors', 'Interest_Rate',\n",
       "       'Loan_Length', 'Loan_Purpose', 'Debt_To_income_Ratio', 'State',\n",
       "       'Home_Ownership', 'Monthly_Income', 'FICO_Range', 'Open_CREDIT_Lines',\n",
       "       'Revolving_CREDIT_Balance', 'Inquiries_in_the_Last_6_Months',\n",
       "       'Employment_Length'],\n",
       "      dtype='object')"
      ]
     },
     "execution_count": 7,
     "metadata": {},
     "output_type": "execute_result"
    }
   ],
   "source": [
    "loan.columns"
   ]
  },
  {
   "cell_type": "raw",
   "id": "5ee87678",
   "metadata": {},
   "source": [
    "Converting data types for some features"
   ]
  },
  {
   "cell_type": "code",
   "execution_count": 8,
   "id": "8cac06a2",
   "metadata": {},
   "outputs": [],
   "source": [
    "loan[\"Interest_Rate\"]=pd.to_numeric(loan[\"Interest_Rate\"].str.replace(\"%\",\"\"))"
   ]
  },
  {
   "cell_type": "code",
   "execution_count": 9,
   "id": "c281bb46",
   "metadata": {},
   "outputs": [],
   "source": [
    "loan[\"Loan_Length\"]=pd.to_numeric(loan[\"Loan_Length\"].str.replace(\"months\",\"\"))"
   ]
  },
  {
   "cell_type": "code",
   "execution_count": 10,
   "id": "3adf0ea4",
   "metadata": {},
   "outputs": [],
   "source": [
    "loan[\"Debt_To_income_Ratio\"]=pd.to_numeric(loan[\"Debt_To_income_Ratio\"].str.replace(\"%\",\"\"))"
   ]
  },
  {
   "cell_type": "code",
   "execution_count": 11,
   "id": "3f8f2c03",
   "metadata": {},
   "outputs": [
    {
     "data": {
      "text/plain": [
       "Amount_Requested                  float64\n",
       "Amount_Funded_By_Investors        float64\n",
       "Interest_Rate                     float64\n",
       "Loan_Length                         int64\n",
       "Loan_Purpose                       object\n",
       "Debt_To_income_Ratio              float64\n",
       "State                              object\n",
       "Home_Ownership                     object\n",
       "Monthly_Income                    float64\n",
       "FICO_Range                         object\n",
       "Open_CREDIT_Lines                 float64\n",
       "Revolving_CREDIT_Balance          float64\n",
       "Inquiries_in_the_Last_6_Months    float64\n",
       "Employment_Length                  object\n",
       "dtype: object"
      ]
     },
     "execution_count": 11,
     "metadata": {},
     "output_type": "execute_result"
    }
   ],
   "source": [
    "loan.dtypes"
   ]
  },
  {
   "cell_type": "code",
   "execution_count": 12,
   "id": "29e191dd",
   "metadata": {},
   "outputs": [],
   "source": [
    "loan=loan.dropna()"
   ]
  },
  {
   "cell_type": "markdown",
   "id": "f7516b28",
   "metadata": {},
   "source": [
    "# Statistical Analysis"
   ]
  },
  {
   "cell_type": "raw",
   "id": "aebbd7f7",
   "metadata": {},
   "source": [
    "#a]\n",
    "HO=Interest Rate is not varied for different Loan Amounts\n",
    "H1=Interest Rate is varied for different Loan Amounts"
   ]
  },
  {
   "cell_type": "raw",
   "id": "a0ca5987",
   "metadata": {},
   "source": [
    "applying 95% Confidence Level"
   ]
  },
  {
   "cell_type": "code",
   "execution_count": 13,
   "id": "843e11fb",
   "metadata": {},
   "outputs": [],
   "source": [
    "#obtaining samples\n",
    "x=loan[\"Amount_Funded_By_Investors\"]\n",
    "y=loan[\"Interest_Rate\"]"
   ]
  },
  {
   "cell_type": "code",
   "execution_count": 14,
   "id": "3aa23b7b",
   "metadata": {},
   "outputs": [
    {
     "data": {
      "text/plain": [
       "Ttest_indResult(statistic=76.66587325965071, pvalue=0.0)"
      ]
     },
     "execution_count": 14,
     "metadata": {},
     "output_type": "execute_result"
    }
   ],
   "source": [
    "stats.ttest_ind(x,y)"
   ]
  },
  {
   "cell_type": "raw",
   "id": "ea9dd2e9",
   "metadata": {},
   "source": [
    "We see that p value (0.0) is lesser than 0.05 i.e for 95% . Hence we rejecting Null Hypothesis\n"
   ]
  },
  {
   "cell_type": "markdown",
   "id": "41ac1102",
   "metadata": {},
   "source": [
    "Conculsion"
   ]
  },
  {
   "cell_type": "raw",
   "id": "8bcedafd",
   "metadata": {},
   "source": [
    "As the significance value for independence t test is < 0.05 for 95% confidence level we can conclude that Interest Rate is varied for different Loan Amount(Less interest charged for high loan)"
   ]
  },
  {
   "cell_type": "raw",
   "id": "7e7ba59d",
   "metadata": {},
   "source": [
    "#b]\n",
    "HO=Loan Length is  not directly effecting Interest Rate\n",
    "H1=Loan Length is  directly effecting Interest Rate"
   ]
  },
  {
   "cell_type": "raw",
   "id": "25d0c36c",
   "metadata": {},
   "source": [
    "applying 95% Confidence Levels"
   ]
  },
  {
   "cell_type": "code",
   "execution_count": 15,
   "id": "d1a88430",
   "metadata": {},
   "outputs": [],
   "source": [
    "x=loan[\"Interest_Rate\"]\n",
    "y=loan[\"Loan_Length\"]"
   ]
  },
  {
   "cell_type": "code",
   "execution_count": 16,
   "id": "aa085f05",
   "metadata": {},
   "outputs": [
    {
     "data": {
      "text/plain": [
       "Ttest_indResult(statistic=-128.36728199919077, pvalue=0.0)"
      ]
     },
     "execution_count": 16,
     "metadata": {},
     "output_type": "execute_result"
    }
   ],
   "source": [
    "stats.ttest_ind(x,y)"
   ]
  },
  {
   "cell_type": "raw",
   "id": "3ce4c420",
   "metadata": {},
   "source": [
    "We see that p value (0.0) is lesser than 0.05 i.e for 95% . Hence we rejecting Null Hypothesis\n"
   ]
  },
  {
   "cell_type": "markdown",
   "id": "5103c0ac",
   "metadata": {},
   "source": [
    "Conculsion"
   ]
  },
  {
   "cell_type": "raw",
   "id": "ede0cbfe",
   "metadata": {},
   "source": [
    "As the significance value for independence t test is < 0.05 for 95% confidence level we can conclude that Loan Length is  effecting directly to Loan Amount"
   ]
  },
  {
   "cell_type": "raw",
   "id": "0404670c",
   "metadata": {},
   "source": [
    "#c]\n",
    "HO=Interest Rate not varying for different Purpose of Loans\n",
    "H1=Interest Rate  varying for different Purpose of Loans\n",
    "\n"
   ]
  },
  {
   "cell_type": "raw",
   "id": "201a38bf",
   "metadata": {},
   "source": [
    "applying 95% Confidence Levels"
   ]
  },
  {
   "cell_type": "code",
   "execution_count": 17,
   "id": "99d3c48e",
   "metadata": {},
   "outputs": [],
   "source": [
    "grp1=loan.loc[(loan[\"Loan_Purpose\"]=='debt_consolidation')]['Interest_Rate']\n",
    "grp2=loan.loc[(loan[\"Loan_Purpose\"]=='credit_card')]['Interest_Rate']\n",
    "grp3=loan.loc[(loan[\"Loan_Purpose\"]=='other')]['Interest_Rate']\n",
    "grp4=loan.loc[(loan[\"Loan_Purpose\"]=='moving')]['Interest_Rate']\n",
    "grp5=loan.loc[(loan[\"Loan_Purpose\"]=='car')]['Interest_Rate']\n",
    "grp6=loan.loc[(loan[\"Loan_Purpose\"]=='vacation')]['Interest_Rate']\n",
    "grp7=loan.loc[(loan[\"Loan_Purpose\"]=='home_improvement')]['Interest_Rate']\n",
    "grp8=loan.loc[(loan[\"Loan_Purpose\"]=='house')]['Interest_Rate']\n",
    "grp9=loan.loc[(loan[\"Loan_Purpose\"]=='major_purchase')]['Interest_Rate']\n",
    "grp10=loan.loc[(loan[\"Loan_Purpose\"]=='educational')]['Interest_Rate']\n",
    "grp11=loan.loc[(loan[\"Loan_Purpose\"]=='medical')]['Interest_Rate']\n",
    "grp12=loan.loc[(loan[\"Loan_Purpose\"]=='wedding')]['Interest_Rate']\n",
    "grp13=loan.loc[(loan[\"Loan_Purpose\"]=='small_business')]['Interest_Rate']\n",
    "grp14=loan.loc[(loan[\"Loan_Purpose\"]=='renewable_energy')]['Interest_Rate']\n",
    "\n"
   ]
  },
  {
   "cell_type": "code",
   "execution_count": 18,
   "id": "f1f432f0",
   "metadata": {},
   "outputs": [
    {
     "data": {
      "text/plain": [
       "F_onewayResult(statistic=7.330838185919651, pvalue=2.7646672581411367e-14)"
      ]
     },
     "execution_count": 18,
     "metadata": {},
     "output_type": "execute_result"
    }
   ],
   "source": [
    "stats.f_oneway(grp1,grp2,grp3,grp4,grp5,grp6,grp7,grp8,grp9,grp10,grp11,grp12,grp13,grp14)"
   ]
  },
  {
   "cell_type": "raw",
   "id": "fddff49c",
   "metadata": {},
   "source": [
    "We see that p value (2.7646672581411367e-14) is lesser than 0.05 i.e for 95% . Hence we rejecting Null Hypothesis\n"
   ]
  },
  {
   "cell_type": "markdown",
   "id": "fee60dbf",
   "metadata": {},
   "source": [
    "Conculsion"
   ]
  },
  {
   "cell_type": "raw",
   "id": "b9b6cfc4",
   "metadata": {},
   "source": [
    "As the significance value for F test is < 0.05 for 95% confidence level we can conclude that Interest Rate is varying for Loan Purpose"
   ]
  },
  {
   "cell_type": "raw",
   "id": "b5e254eb",
   "metadata": {},
   "source": [
    "#d]\n",
    "HO=There is no  relationship between FICO SCORES and Home Ownership\n",
    "H1=There is  relationship between FICO SCORES and Home Ownership"
   ]
  },
  {
   "cell_type": "raw",
   "id": "d5c1f291",
   "metadata": {},
   "source": [
    "applying 95% Confidence Levels"
   ]
  },
  {
   "cell_type": "code",
   "execution_count": 19,
   "id": "e7a3bcc5",
   "metadata": {},
   "outputs": [
    {
     "data": {
      "text/html": [
       "<div>\n",
       "<style scoped>\n",
       "    .dataframe tbody tr th:only-of-type {\n",
       "        vertical-align: middle;\n",
       "    }\n",
       "\n",
       "    .dataframe tbody tr th {\n",
       "        vertical-align: top;\n",
       "    }\n",
       "\n",
       "    .dataframe thead th {\n",
       "        text-align: right;\n",
       "    }\n",
       "</style>\n",
       "<table border=\"1\" class=\"dataframe\">\n",
       "  <thead>\n",
       "    <tr style=\"text-align: right;\">\n",
       "      <th>FICO_Range</th>\n",
       "      <th>640-644</th>\n",
       "      <th>645-649</th>\n",
       "      <th>650-654</th>\n",
       "      <th>655-659</th>\n",
       "      <th>660-664</th>\n",
       "      <th>665-669</th>\n",
       "      <th>670-674</th>\n",
       "      <th>675-679</th>\n",
       "      <th>680-684</th>\n",
       "      <th>685-689</th>\n",
       "      <th>...</th>\n",
       "      <th>785-789</th>\n",
       "      <th>790-794</th>\n",
       "      <th>795-799</th>\n",
       "      <th>800-804</th>\n",
       "      <th>805-809</th>\n",
       "      <th>810-814</th>\n",
       "      <th>815-819</th>\n",
       "      <th>820-824</th>\n",
       "      <th>830-834</th>\n",
       "      <th>All</th>\n",
       "    </tr>\n",
       "    <tr>\n",
       "      <th>Home_Ownership</th>\n",
       "      <th></th>\n",
       "      <th></th>\n",
       "      <th></th>\n",
       "      <th></th>\n",
       "      <th></th>\n",
       "      <th></th>\n",
       "      <th></th>\n",
       "      <th></th>\n",
       "      <th></th>\n",
       "      <th></th>\n",
       "      <th></th>\n",
       "      <th></th>\n",
       "      <th></th>\n",
       "      <th></th>\n",
       "      <th></th>\n",
       "      <th></th>\n",
       "      <th></th>\n",
       "      <th></th>\n",
       "      <th></th>\n",
       "      <th></th>\n",
       "      <th></th>\n",
       "    </tr>\n",
       "  </thead>\n",
       "  <tbody>\n",
       "    <tr>\n",
       "      <th>MORTGAGE</th>\n",
       "      <td>0</td>\n",
       "      <td>1</td>\n",
       "      <td>1</td>\n",
       "      <td>0</td>\n",
       "      <td>40</td>\n",
       "      <td>52</td>\n",
       "      <td>66</td>\n",
       "      <td>78</td>\n",
       "      <td>55</td>\n",
       "      <td>58</td>\n",
       "      <td>...</td>\n",
       "      <td>12</td>\n",
       "      <td>15</td>\n",
       "      <td>7</td>\n",
       "      <td>7</td>\n",
       "      <td>6</td>\n",
       "      <td>5</td>\n",
       "      <td>5</td>\n",
       "      <td>0</td>\n",
       "      <td>1</td>\n",
       "      <td>1109</td>\n",
       "    </tr>\n",
       "    <tr>\n",
       "      <th>OTHER</th>\n",
       "      <td>0</td>\n",
       "      <td>0</td>\n",
       "      <td>0</td>\n",
       "      <td>1</td>\n",
       "      <td>0</td>\n",
       "      <td>0</td>\n",
       "      <td>1</td>\n",
       "      <td>1</td>\n",
       "      <td>2</td>\n",
       "      <td>0</td>\n",
       "      <td>...</td>\n",
       "      <td>0</td>\n",
       "      <td>0</td>\n",
       "      <td>0</td>\n",
       "      <td>0</td>\n",
       "      <td>0</td>\n",
       "      <td>0</td>\n",
       "      <td>0</td>\n",
       "      <td>0</td>\n",
       "      <td>0</td>\n",
       "      <td>5</td>\n",
       "    </tr>\n",
       "    <tr>\n",
       "      <th>OWN</th>\n",
       "      <td>1</td>\n",
       "      <td>0</td>\n",
       "      <td>0</td>\n",
       "      <td>0</td>\n",
       "      <td>14</td>\n",
       "      <td>17</td>\n",
       "      <td>13</td>\n",
       "      <td>10</td>\n",
       "      <td>9</td>\n",
       "      <td>10</td>\n",
       "      <td>...</td>\n",
       "      <td>1</td>\n",
       "      <td>1</td>\n",
       "      <td>1</td>\n",
       "      <td>3</td>\n",
       "      <td>2</td>\n",
       "      <td>1</td>\n",
       "      <td>0</td>\n",
       "      <td>1</td>\n",
       "      <td>0</td>\n",
       "      <td>189</td>\n",
       "    </tr>\n",
       "    <tr>\n",
       "      <th>RENT</th>\n",
       "      <td>4</td>\n",
       "      <td>2</td>\n",
       "      <td>0</td>\n",
       "      <td>3</td>\n",
       "      <td>64</td>\n",
       "      <td>69</td>\n",
       "      <td>87</td>\n",
       "      <td>72</td>\n",
       "      <td>91</td>\n",
       "      <td>60</td>\n",
       "      <td>...</td>\n",
       "      <td>4</td>\n",
       "      <td>4</td>\n",
       "      <td>5</td>\n",
       "      <td>2</td>\n",
       "      <td>3</td>\n",
       "      <td>2</td>\n",
       "      <td>0</td>\n",
       "      <td>0</td>\n",
       "      <td>0</td>\n",
       "      <td>1110</td>\n",
       "    </tr>\n",
       "    <tr>\n",
       "      <th>All</th>\n",
       "      <td>5</td>\n",
       "      <td>3</td>\n",
       "      <td>1</td>\n",
       "      <td>4</td>\n",
       "      <td>118</td>\n",
       "      <td>138</td>\n",
       "      <td>167</td>\n",
       "      <td>161</td>\n",
       "      <td>157</td>\n",
       "      <td>128</td>\n",
       "      <td>...</td>\n",
       "      <td>17</td>\n",
       "      <td>20</td>\n",
       "      <td>13</td>\n",
       "      <td>12</td>\n",
       "      <td>11</td>\n",
       "      <td>8</td>\n",
       "      <td>5</td>\n",
       "      <td>1</td>\n",
       "      <td>1</td>\n",
       "      <td>2413</td>\n",
       "    </tr>\n",
       "  </tbody>\n",
       "</table>\n",
       "<p>5 rows × 39 columns</p>\n",
       "</div>"
      ],
      "text/plain": [
       "FICO_Range      640-644  645-649  650-654  655-659  660-664  665-669  670-674  \\\n",
       "Home_Ownership                                                                  \n",
       "MORTGAGE              0        1        1        0       40       52       66   \n",
       "OTHER                 0        0        0        1        0        0        1   \n",
       "OWN                   1        0        0        0       14       17       13   \n",
       "RENT                  4        2        0        3       64       69       87   \n",
       "All                   5        3        1        4      118      138      167   \n",
       "\n",
       "FICO_Range      675-679  680-684  685-689  ...  785-789  790-794  795-799  \\\n",
       "Home_Ownership                             ...                              \n",
       "MORTGAGE             78       55       58  ...       12       15        7   \n",
       "OTHER                 1        2        0  ...        0        0        0   \n",
       "OWN                  10        9       10  ...        1        1        1   \n",
       "RENT                 72       91       60  ...        4        4        5   \n",
       "All                 161      157      128  ...       17       20       13   \n",
       "\n",
       "FICO_Range      800-804  805-809  810-814  815-819  820-824  830-834   All  \n",
       "Home_Ownership                                                              \n",
       "MORTGAGE              7        6        5        5        0        1  1109  \n",
       "OTHER                 0        0        0        0        0        0     5  \n",
       "OWN                   3        2        1        0        1        0   189  \n",
       "RENT                  2        3        2        0        0        0  1110  \n",
       "All                  12       11        8        5        1        1  2413  \n",
       "\n",
       "[5 rows x 39 columns]"
      ]
     },
     "execution_count": 19,
     "metadata": {},
     "output_type": "execute_result"
    }
   ],
   "source": [
    "# obtaining cross tables\n",
    "cross_tb=pd.crosstab(loan[\"Home_Ownership\"],loan[\"FICO_Range\"],margins=True)\n",
    "cross_tb"
   ]
  },
  {
   "cell_type": "code",
   "execution_count": 20,
   "id": "900a6e42",
   "metadata": {},
   "outputs": [
    {
     "data": {
      "text/plain": [
       "(269.78812027573343,\n",
       " 1.3041014985760768e-08,\n",
       " 152,\n",
       " array([[2.29796933e+00, 1.37878160e+00, 4.59593867e-01, 1.83837547e+00,\n",
       "         5.42320763e+01, 6.34239536e+01, 7.67521757e+01, 7.39946125e+01,\n",
       "         7.21562370e+01, 5.88280149e+01, 6.20451720e+01, 6.71007045e+01,\n",
       "         5.69896395e+01, 6.02067965e+01, 4.91765437e+01, 4.22826357e+01,\n",
       "         4.96361376e+01, 4.18230419e+01, 4.32018235e+01, 2.98736013e+01,\n",
       "         2.29796933e+01, 2.48180688e+01, 2.75756320e+01, 2.02221301e+01,\n",
       "         2.06817240e+01, 1.47070037e+01, 7.81309573e+00, 1.01110651e+01,\n",
       "         1.19494405e+01, 7.81309573e+00, 9.19187733e+00, 5.97472027e+00,\n",
       "         5.51512640e+00, 5.05553253e+00, 3.67675093e+00, 2.29796933e+00,\n",
       "         4.59593867e-01, 4.59593867e-01, 1.10900000e+03],\n",
       "        [1.03605470e-02, 6.21632822e-03, 2.07210941e-03, 8.28843763e-03,\n",
       "         2.44508910e-01, 2.85951098e-01, 3.46042271e-01, 3.33609615e-01,\n",
       "         3.25321177e-01, 2.65230004e-01, 2.79734770e-01, 3.02527973e-01,\n",
       "         2.56941567e-01, 2.71446332e-01, 2.21715707e-01, 1.90634065e-01,\n",
       "         2.23787816e-01, 1.88561956e-01, 1.94778284e-01, 1.34687111e-01,\n",
       "         1.03605470e-01, 1.11893908e-01, 1.24326564e-01, 9.11728139e-02,\n",
       "         9.32449233e-02, 6.63075010e-02, 3.52258599e-02, 4.55864070e-02,\n",
       "         5.38748446e-02, 3.52258599e-02, 4.14421881e-02, 2.69374223e-02,\n",
       "         2.48653129e-02, 2.27932035e-02, 1.65768753e-02, 1.03605470e-02,\n",
       "         2.07210941e-03, 2.07210941e-03, 5.00000000e+00],\n",
       "        [3.91628678e-01, 2.34977207e-01, 7.83257356e-02, 3.13302942e-01,\n",
       "         9.24243680e+00, 1.08089515e+01, 1.30803978e+01, 1.26104434e+01,\n",
       "         1.22971405e+01, 1.00256942e+01, 1.05739743e+01, 1.14355574e+01,\n",
       "         9.71239121e+00, 1.02606714e+01, 8.38085371e+00, 7.20596768e+00,\n",
       "         8.45917944e+00, 7.12764194e+00, 7.36261915e+00, 5.09117281e+00,\n",
       "         3.91628678e+00, 4.22958972e+00, 4.69954414e+00, 3.44633237e+00,\n",
       "         3.52465810e+00, 2.50642354e+00, 1.33153751e+00, 1.72316618e+00,\n",
       "         2.03646913e+00, 1.33153751e+00, 1.56651471e+00, 1.01823456e+00,\n",
       "         9.39908827e-01, 8.61583092e-01, 6.26605885e-01, 3.91628678e-01,\n",
       "         7.83257356e-02, 7.83257356e-02, 1.89000000e+02],\n",
       "        [2.30004144e+00, 1.38002487e+00, 4.60008288e-01, 1.84003315e+00,\n",
       "         5.42809780e+01, 6.34811438e+01, 7.68213842e+01, 7.40613344e+01,\n",
       "         7.22213013e+01, 5.88810609e+01, 6.21011189e+01, 6.71612101e+01,\n",
       "         5.70410278e+01, 6.02610858e+01, 4.92208869e+01, 4.23207625e+01,\n",
       "         4.96808952e+01, 4.18607542e+01, 4.32407791e+01, 2.99005387e+01,\n",
       "         2.30004144e+01, 2.48404476e+01, 2.76004973e+01, 2.02403647e+01,\n",
       "         2.07003730e+01, 1.47202652e+01, 7.82014090e+00, 1.01201823e+01,\n",
       "         1.19602155e+01, 7.82014090e+00, 9.20016577e+00, 5.98010775e+00,\n",
       "         5.52009946e+00, 5.06009117e+00, 3.68006631e+00, 2.30004144e+00,\n",
       "         4.60008288e-01, 4.60008288e-01, 1.11000000e+03],\n",
       "        [5.00000000e+00, 3.00000000e+00, 1.00000000e+00, 4.00000000e+00,\n",
       "         1.18000000e+02, 1.38000000e+02, 1.67000000e+02, 1.61000000e+02,\n",
       "         1.57000000e+02, 1.28000000e+02, 1.35000000e+02, 1.46000000e+02,\n",
       "         1.24000000e+02, 1.31000000e+02, 1.07000000e+02, 9.20000000e+01,\n",
       "         1.08000000e+02, 9.10000000e+01, 9.40000000e+01, 6.50000000e+01,\n",
       "         5.00000000e+01, 5.40000000e+01, 6.00000000e+01, 4.40000000e+01,\n",
       "         4.50000000e+01, 3.20000000e+01, 1.70000000e+01, 2.20000000e+01,\n",
       "         2.60000000e+01, 1.70000000e+01, 2.00000000e+01, 1.30000000e+01,\n",
       "         1.20000000e+01, 1.10000000e+01, 8.00000000e+00, 5.00000000e+00,\n",
       "         1.00000000e+00, 1.00000000e+00, 2.41300000e+03]]))"
      ]
     },
     "execution_count": 20,
     "metadata": {},
     "output_type": "execute_result"
    }
   ],
   "source": [
    "stats.chi2_contingency(cross_tb)"
   ]
  },
  {
   "cell_type": "raw",
   "id": "0dd1e778",
   "metadata": {},
   "source": [
    "We see that p value (4.020373769803923e-26) is lesser than 0.05 i.e for 95% . Hence we rejecting Null Hypothesis\n",
    "\n"
   ]
  },
  {
   "cell_type": "markdown",
   "id": "fb36644b",
   "metadata": {},
   "source": [
    "Conculsion"
   ]
  },
  {
   "cell_type": "raw",
   "id": "d81e0b3a",
   "metadata": {},
   "source": [
    "As the significance value for Chi-square test is < 0.05 for 95% confidence level we can conclude that there is a relationship between FICO scores and Home Ownership i.e people with owning home will have high FICO scores. "
   ]
  },
  {
   "cell_type": "raw",
   "id": "ea4f317e",
   "metadata": {},
   "source": [
    "BUSINESS PROBLEM 2\n",
    "\n",
    "We would like to assess if there is any difference in the average price quotes provided by Mary and Barry.\n"
   ]
  },
  {
   "cell_type": "markdown",
   "id": "b9e031c4",
   "metadata": {},
   "source": [
    "# Import Data"
   ]
  },
  {
   "cell_type": "code",
   "execution_count": 21,
   "id": "1847c318",
   "metadata": {},
   "outputs": [
    {
     "data": {
      "text/html": [
       "<div>\n",
       "<style scoped>\n",
       "    .dataframe tbody tr th:only-of-type {\n",
       "        vertical-align: middle;\n",
       "    }\n",
       "\n",
       "    .dataframe tbody tr th {\n",
       "        vertical-align: top;\n",
       "    }\n",
       "\n",
       "    .dataframe thead th {\n",
       "        text-align: right;\n",
       "    }\n",
       "</style>\n",
       "<table border=\"1\" class=\"dataframe\">\n",
       "  <thead>\n",
       "    <tr style=\"text-align: right;\">\n",
       "      <th></th>\n",
       "      <th>Order_Number</th>\n",
       "      <th>Barry_Price</th>\n",
       "      <th>Mary_Price</th>\n",
       "    </tr>\n",
       "  </thead>\n",
       "  <tbody>\n",
       "    <tr>\n",
       "      <th>0</th>\n",
       "      <td>1</td>\n",
       "      <td>126</td>\n",
       "      <td>114</td>\n",
       "    </tr>\n",
       "    <tr>\n",
       "      <th>1</th>\n",
       "      <td>2</td>\n",
       "      <td>110</td>\n",
       "      <td>118</td>\n",
       "    </tr>\n",
       "    <tr>\n",
       "      <th>2</th>\n",
       "      <td>3</td>\n",
       "      <td>138</td>\n",
       "      <td>114</td>\n",
       "    </tr>\n",
       "    <tr>\n",
       "      <th>3</th>\n",
       "      <td>4</td>\n",
       "      <td>142</td>\n",
       "      <td>111</td>\n",
       "    </tr>\n",
       "    <tr>\n",
       "      <th>4</th>\n",
       "      <td>5</td>\n",
       "      <td>146</td>\n",
       "      <td>129</td>\n",
       "    </tr>\n",
       "    <tr>\n",
       "      <th>5</th>\n",
       "      <td>6</td>\n",
       "      <td>136</td>\n",
       "      <td>119</td>\n",
       "    </tr>\n",
       "    <tr>\n",
       "      <th>6</th>\n",
       "      <td>7</td>\n",
       "      <td>94</td>\n",
       "      <td>97</td>\n",
       "    </tr>\n",
       "    <tr>\n",
       "      <th>7</th>\n",
       "      <td>8</td>\n",
       "      <td>103</td>\n",
       "      <td>104</td>\n",
       "    </tr>\n",
       "    <tr>\n",
       "      <th>8</th>\n",
       "      <td>9</td>\n",
       "      <td>140</td>\n",
       "      <td>127</td>\n",
       "    </tr>\n",
       "    <tr>\n",
       "      <th>9</th>\n",
       "      <td>10</td>\n",
       "      <td>152</td>\n",
       "      <td>133</td>\n",
       "    </tr>\n",
       "    <tr>\n",
       "      <th>10</th>\n",
       "      <td>11</td>\n",
       "      <td>108</td>\n",
       "      <td>103</td>\n",
       "    </tr>\n",
       "    <tr>\n",
       "      <th>11</th>\n",
       "      <td>12</td>\n",
       "      <td>97</td>\n",
       "      <td>108</td>\n",
       "    </tr>\n",
       "  </tbody>\n",
       "</table>\n",
       "</div>"
      ],
      "text/plain": [
       "    Order_Number  Barry_Price  Mary_Price\n",
       "0              1          126         114\n",
       "1              2          110         118\n",
       "2              3          138         114\n",
       "3              4          142         111\n",
       "4              5          146         129\n",
       "5              6          136         119\n",
       "6              7           94          97\n",
       "7              8          103         104\n",
       "8              9          140         127\n",
       "9             10          152         133\n",
       "10            11          108         103\n",
       "11            12           97         108"
      ]
     },
     "execution_count": 21,
     "metadata": {},
     "output_type": "execute_result"
    }
   ],
   "source": [
    "p_quotes=pd.read_csv(r'C:\\Users\\Deepika\\Downloads\\PYTHON\\Price_Quotes.csv')\n",
    "p_quotes"
   ]
  },
  {
   "cell_type": "markdown",
   "id": "9fb2f3c5",
   "metadata": {},
   "source": [
    "# Data Audit"
   ]
  },
  {
   "cell_type": "code",
   "execution_count": 22,
   "id": "c1129971",
   "metadata": {},
   "outputs": [
    {
     "name": "stdout",
     "output_type": "stream",
     "text": [
      "<class 'pandas.core.frame.DataFrame'>\n",
      "RangeIndex: 12 entries, 0 to 11\n",
      "Data columns (total 3 columns):\n",
      " #   Column        Non-Null Count  Dtype\n",
      "---  ------        --------------  -----\n",
      " 0   Order_Number  12 non-null     int64\n",
      " 1   Barry_Price   12 non-null     int64\n",
      " 2   Mary_Price    12 non-null     int64\n",
      "dtypes: int64(3)\n",
      "memory usage: 416.0 bytes\n"
     ]
    }
   ],
   "source": [
    "p_quotes.info()"
   ]
  },
  {
   "cell_type": "code",
   "execution_count": 23,
   "id": "8caed7a2",
   "metadata": {},
   "outputs": [
    {
     "data": {
      "text/plain": [
       "Order_Number    int64\n",
       "Barry_Price     int64\n",
       "Mary_Price      int64\n",
       "dtype: object"
      ]
     },
     "execution_count": 23,
     "metadata": {},
     "output_type": "execute_result"
    }
   ],
   "source": [
    "p_quotes.dtypes"
   ]
  },
  {
   "cell_type": "code",
   "execution_count": 24,
   "id": "4c59c26a",
   "metadata": {},
   "outputs": [
    {
     "data": {
      "text/plain": [
       "Order_Number    0\n",
       "Barry_Price     0\n",
       "Mary_Price      0\n",
       "dtype: int64"
      ]
     },
     "execution_count": 24,
     "metadata": {},
     "output_type": "execute_result"
    }
   ],
   "source": [
    "p_quotes.isna().sum()"
   ]
  },
  {
   "cell_type": "markdown",
   "id": "ab2b04f6",
   "metadata": {},
   "source": [
    "# Statistical Analysis"
   ]
  },
  {
   "cell_type": "raw",
   "id": "8e9463cc",
   "metadata": {},
   "source": [
    "HO=There is no difference in the average price quotes provided by Mary and Bary\n",
    "H1=There is  difference in the average price quotes provided by Mary and Bary"
   ]
  },
  {
   "cell_type": "raw",
   "id": "fc0d5b84",
   "metadata": {},
   "source": [
    "applying 95% Confidence Levels"
   ]
  },
  {
   "cell_type": "code",
   "execution_count": 25,
   "id": "9a668c20",
   "metadata": {},
   "outputs": [],
   "source": [
    "#obtaining Samples\n",
    "avg_Barry_price_quotes=p_quotes.groupby(by=['Order_Number'])[['Barry_Price']].mean()\n",
    "avg_Mary_price_quotes=p_quotes.groupby(by=['Order_Number'])[['Mary_Price']].mean()\n"
   ]
  },
  {
   "cell_type": "code",
   "execution_count": 26,
   "id": "e501a2be",
   "metadata": {},
   "outputs": [
    {
     "data": {
      "text/plain": [
       "Ttest_indResult(statistic=array([1.41474367]), pvalue=array([0.17114226]))"
      ]
     },
     "execution_count": 26,
     "metadata": {},
     "output_type": "execute_result"
    }
   ],
   "source": [
    "stats.ttest_ind(avg_Barry_price_quotes,avg_Mary_price_quotes)"
   ]
  },
  {
   "cell_type": "raw",
   "id": "b5bcc781",
   "metadata": {},
   "source": [
    "We see that p value (0.17114226) is greater than 0.05 i.e for 95% . Hence we  not rejecting Null Hypothesis\n",
    "\n"
   ]
  },
  {
   "cell_type": "markdown",
   "id": "e30e594e",
   "metadata": {},
   "source": [
    "Conculsion"
   ]
  },
  {
   "cell_type": "raw",
   "id": "4a6c62e5",
   "metadata": {},
   "source": [
    "As the significance value for Independence t test is > 0.05 for 95% confidence level we can conclude that there is no difference in the average price quotes provided by Mary and Bary"
   ]
  },
  {
   "cell_type": "raw",
   "id": "658794e8",
   "metadata": {},
   "source": [
    "BUSINESS PROBLEM 3\n",
    "\n",
    "Determine what effect, if any, the reengineering effort had on the incidence behavioral problems and staff turnover. i.e To determine if the reengineering effort changed the critical incidence rate. Isthere evidence that the critical incidence rate\n",
    "improved?\n"
   ]
  },
  {
   "cell_type": "markdown",
   "id": "509128a8",
   "metadata": {},
   "source": [
    "# Import Data"
   ]
  },
  {
   "cell_type": "code",
   "execution_count": 27,
   "id": "0765f1b2",
   "metadata": {},
   "outputs": [
    {
     "data": {
      "text/html": [
       "<div>\n",
       "<style scoped>\n",
       "    .dataframe tbody tr th:only-of-type {\n",
       "        vertical-align: middle;\n",
       "    }\n",
       "\n",
       "    .dataframe tbody tr th {\n",
       "        vertical-align: top;\n",
       "    }\n",
       "\n",
       "    .dataframe thead th {\n",
       "        text-align: right;\n",
       "    }\n",
       "</style>\n",
       "<table border=\"1\" class=\"dataframe\">\n",
       "  <thead>\n",
       "    <tr style=\"text-align: right;\">\n",
       "      <th></th>\n",
       "      <th>Month</th>\n",
       "      <th>Reengineer</th>\n",
       "      <th>Employee_Turnover</th>\n",
       "      <th>VAR4</th>\n",
       "      <th>VAR5</th>\n",
       "    </tr>\n",
       "  </thead>\n",
       "  <tbody>\n",
       "    <tr>\n",
       "      <th>0</th>\n",
       "      <td>1</td>\n",
       "      <td>Prior</td>\n",
       "      <td>0.0000</td>\n",
       "      <td>24.390244</td>\n",
       "      <td>42.682927</td>\n",
       "    </tr>\n",
       "    <tr>\n",
       "      <th>1</th>\n",
       "      <td>2</td>\n",
       "      <td>Prior</td>\n",
       "      <td>6.0606</td>\n",
       "      <td>19.354839</td>\n",
       "      <td>25.806452</td>\n",
       "    </tr>\n",
       "    <tr>\n",
       "      <th>2</th>\n",
       "      <td>3</td>\n",
       "      <td>Prior</td>\n",
       "      <td>12.1212</td>\n",
       "      <td>35.087719</td>\n",
       "      <td>146.198830</td>\n",
       "    </tr>\n",
       "    <tr>\n",
       "      <th>3</th>\n",
       "      <td>4</td>\n",
       "      <td>Prior</td>\n",
       "      <td>3.3333</td>\n",
       "      <td>18.404908</td>\n",
       "      <td>110.429448</td>\n",
       "    </tr>\n",
       "    <tr>\n",
       "      <th>4</th>\n",
       "      <td>5</td>\n",
       "      <td>Prior</td>\n",
       "      <td>12.9032</td>\n",
       "      <td>17.964072</td>\n",
       "      <td>23.952096</td>\n",
       "    </tr>\n",
       "    <tr>\n",
       "      <th>5</th>\n",
       "      <td>6</td>\n",
       "      <td>Prior</td>\n",
       "      <td>9.6774</td>\n",
       "      <td>41.176471</td>\n",
       "      <td>47.058824</td>\n",
       "    </tr>\n",
       "    <tr>\n",
       "      <th>6</th>\n",
       "      <td>7</td>\n",
       "      <td>Prior</td>\n",
       "      <td>11.7647</td>\n",
       "      <td>13.422819</td>\n",
       "      <td>0.000000</td>\n",
       "    </tr>\n",
       "    <tr>\n",
       "      <th>7</th>\n",
       "      <td>8</td>\n",
       "      <td>Prior</td>\n",
       "      <td>11.4286</td>\n",
       "      <td>31.250000</td>\n",
       "      <td>25.000000</td>\n",
       "    </tr>\n",
       "    <tr>\n",
       "      <th>8</th>\n",
       "      <td>9</td>\n",
       "      <td>Prior</td>\n",
       "      <td>23.0769</td>\n",
       "      <td>17.241379</td>\n",
       "      <td>132.183908</td>\n",
       "    </tr>\n",
       "    <tr>\n",
       "      <th>9</th>\n",
       "      <td>10</td>\n",
       "      <td>Prior</td>\n",
       "      <td>15.0000</td>\n",
       "      <td>16.574586</td>\n",
       "      <td>16.574586</td>\n",
       "    </tr>\n",
       "    <tr>\n",
       "      <th>10</th>\n",
       "      <td>11</td>\n",
       "      <td>Prior</td>\n",
       "      <td>10.0000</td>\n",
       "      <td>5.917160</td>\n",
       "      <td>88.757396</td>\n",
       "    </tr>\n",
       "    <tr>\n",
       "      <th>11</th>\n",
       "      <td>12</td>\n",
       "      <td>Prior</td>\n",
       "      <td>26.0870</td>\n",
       "      <td>21.164021</td>\n",
       "      <td>31.746032</td>\n",
       "    </tr>\n",
       "    <tr>\n",
       "      <th>12</th>\n",
       "      <td>13</td>\n",
       "      <td>Prior</td>\n",
       "      <td>11.1111</td>\n",
       "      <td>5.076142</td>\n",
       "      <td>10.152284</td>\n",
       "    </tr>\n",
       "    <tr>\n",
       "      <th>13</th>\n",
       "      <td>14</td>\n",
       "      <td>Post</td>\n",
       "      <td>26.6667</td>\n",
       "      <td>9.708738</td>\n",
       "      <td>29.126214</td>\n",
       "    </tr>\n",
       "    <tr>\n",
       "      <th>14</th>\n",
       "      <td>15</td>\n",
       "      <td>Post</td>\n",
       "      <td>17.9487</td>\n",
       "      <td>4.201681</td>\n",
       "      <td>21.008403</td>\n",
       "    </tr>\n",
       "    <tr>\n",
       "      <th>15</th>\n",
       "      <td>16</td>\n",
       "      <td>Post</td>\n",
       "      <td>12.8205</td>\n",
       "      <td>13.043478</td>\n",
       "      <td>34.782609</td>\n",
       "    </tr>\n",
       "    <tr>\n",
       "      <th>16</th>\n",
       "      <td>17</td>\n",
       "      <td>Post</td>\n",
       "      <td>15.7895</td>\n",
       "      <td>9.950249</td>\n",
       "      <td>19.900498</td>\n",
       "    </tr>\n",
       "    <tr>\n",
       "      <th>17</th>\n",
       "      <td>18</td>\n",
       "      <td>Post</td>\n",
       "      <td>0.0000</td>\n",
       "      <td>9.950249</td>\n",
       "      <td>9.950249</td>\n",
       "    </tr>\n",
       "    <tr>\n",
       "      <th>18</th>\n",
       "      <td>19</td>\n",
       "      <td>Post</td>\n",
       "      <td>30.7692</td>\n",
       "      <td>8.510638</td>\n",
       "      <td>25.531915</td>\n",
       "    </tr>\n",
       "    <tr>\n",
       "      <th>19</th>\n",
       "      <td>20</td>\n",
       "      <td>Post</td>\n",
       "      <td>26.8293</td>\n",
       "      <td>9.259259</td>\n",
       "      <td>23.148148</td>\n",
       "    </tr>\n",
       "  </tbody>\n",
       "</table>\n",
       "</div>"
      ],
      "text/plain": [
       "    Month Reengineer  Employee_Turnover       VAR4        VAR5\n",
       "0       1      Prior             0.0000  24.390244   42.682927\n",
       "1       2      Prior             6.0606  19.354839   25.806452\n",
       "2       3      Prior            12.1212  35.087719  146.198830\n",
       "3       4      Prior             3.3333  18.404908  110.429448\n",
       "4       5      Prior            12.9032  17.964072   23.952096\n",
       "5       6      Prior             9.6774  41.176471   47.058824\n",
       "6       7      Prior            11.7647  13.422819    0.000000\n",
       "7       8      Prior            11.4286  31.250000   25.000000\n",
       "8       9      Prior            23.0769  17.241379  132.183908\n",
       "9      10      Prior            15.0000  16.574586   16.574586\n",
       "10     11      Prior            10.0000   5.917160   88.757396\n",
       "11     12      Prior            26.0870  21.164021   31.746032\n",
       "12     13      Prior            11.1111   5.076142   10.152284\n",
       "13     14       Post            26.6667   9.708738   29.126214\n",
       "14     15       Post            17.9487   4.201681   21.008403\n",
       "15     16       Post            12.8205  13.043478   34.782609\n",
       "16     17       Post            15.7895   9.950249   19.900498\n",
       "17     18       Post             0.0000   9.950249    9.950249\n",
       "18     19       Post            30.7692   8.510638   25.531915\n",
       "19     20       Post            26.8293   9.259259   23.148148"
      ]
     },
     "execution_count": 27,
     "metadata": {},
     "output_type": "execute_result"
    }
   ],
   "source": [
    "treat_fac=pd.read_csv(r'C:\\Users\\Deepika\\Downloads\\PYTHON\\Treatment_Facility.csv')\n",
    "treat_fac"
   ]
  },
  {
   "cell_type": "markdown",
   "id": "50dbdec9",
   "metadata": {},
   "source": [
    "# Data Audit"
   ]
  },
  {
   "cell_type": "code",
   "execution_count": 28,
   "id": "bdf04786",
   "metadata": {},
   "outputs": [
    {
     "name": "stdout",
     "output_type": "stream",
     "text": [
      "<class 'pandas.core.frame.DataFrame'>\n",
      "RangeIndex: 20 entries, 0 to 19\n",
      "Data columns (total 5 columns):\n",
      " #   Column             Non-Null Count  Dtype  \n",
      "---  ------             --------------  -----  \n",
      " 0   Month              20 non-null     int64  \n",
      " 1   Reengineer         20 non-null     object \n",
      " 2   Employee_Turnover  20 non-null     float64\n",
      " 3   VAR4               20 non-null     float64\n",
      " 4   VAR5               20 non-null     float64\n",
      "dtypes: float64(3), int64(1), object(1)\n",
      "memory usage: 928.0+ bytes\n"
     ]
    }
   ],
   "source": [
    "treat_fac.info()"
   ]
  },
  {
   "cell_type": "code",
   "execution_count": 29,
   "id": "884b84ea",
   "metadata": {},
   "outputs": [
    {
     "data": {
      "text/plain": [
       "Month                  int64\n",
       "Reengineer            object\n",
       "Employee_Turnover    float64\n",
       "VAR4                 float64\n",
       "VAR5                 float64\n",
       "dtype: object"
      ]
     },
     "execution_count": 29,
     "metadata": {},
     "output_type": "execute_result"
    }
   ],
   "source": [
    "treat_fac.dtypes"
   ]
  },
  {
   "cell_type": "code",
   "execution_count": 30,
   "id": "310dfc3a",
   "metadata": {},
   "outputs": [
    {
     "data": {
      "text/plain": [
       "Month                0\n",
       "Reengineer           0\n",
       "Employee_Turnover    0\n",
       "VAR4                 0\n",
       "VAR5                 0\n",
       "dtype: int64"
      ]
     },
     "execution_count": 30,
     "metadata": {},
     "output_type": "execute_result"
    }
   ],
   "source": [
    "treat_fac.isna().sum()"
   ]
  },
  {
   "cell_type": "markdown",
   "id": "9a32ff8a",
   "metadata": {},
   "source": [
    "# Statistical Analysis"
   ]
  },
  {
   "cell_type": "raw",
   "id": "c05c4769",
   "metadata": {},
   "source": [
    "HO=Reengineer effort doesn't changed the Critical Icidence Rate\n",
    "H1=Reengineer effort changed the Critical Icidence Rate"
   ]
  },
  {
   "cell_type": "raw",
   "id": "91bac6f1",
   "metadata": {},
   "source": [
    "applying 95% Confidence Levels"
   ]
  },
  {
   "cell_type": "code",
   "execution_count": 31,
   "id": "1b744b2c",
   "metadata": {},
   "outputs": [],
   "source": [
    "#obtaining samples\n",
    "grp1=treat_fac.loc[(treat_fac.Reengineer==\"Prior\")][['VAR5']]\n",
    "grp2=treat_fac.loc[(treat_fac.Reengineer==\"Post\")][['VAR5']]\n"
   ]
  },
  {
   "cell_type": "code",
   "execution_count": 32,
   "id": "1a788e5c",
   "metadata": {},
   "outputs": [
    {
     "data": {
      "text/plain": [
       "F_onewayResult(statistic=array([2.65010538]), pvalue=array([0.12091989]))"
      ]
     },
     "execution_count": 32,
     "metadata": {},
     "output_type": "execute_result"
    }
   ],
   "source": [
    "stats.f_oneway(grp1,grp2)"
   ]
  },
  {
   "cell_type": "raw",
   "id": "679ade95",
   "metadata": {},
   "source": [
    "We see that p value (0.12091989) is greater than 0.05 i.e for 95% . Hence we  not rejecting Null Hypothesis\n",
    "\n"
   ]
  },
  {
   "cell_type": "markdown",
   "id": "4c430fcc",
   "metadata": {},
   "source": [
    "Conculsion"
   ]
  },
  {
   "cell_type": "raw",
   "id": "891f2b86",
   "metadata": {},
   "source": [
    "As the significance value for f test is > 0.05 for 95% confidence level we can conclude that Reengineer effort doesn't changed the Critical Icidence Rate i.e before and after\n",
    "That Means the critical incidence rate didnt improved"
   ]
  },
  {
   "cell_type": "raw",
   "id": "12237a8a",
   "metadata": {},
   "source": [
    "BUSINESS PROBLEM 4\n",
    "\n",
    "We will focus on the prioritization system. If the system is working, then high priority jobs, on average, should be completed more quickly than medium priority jobs,and medium priority jobs should be completed more quickly than low priority jobs. Use the data provided to determine whether thisis, in fact, occurring"
   ]
  },
  {
   "cell_type": "markdown",
   "id": "9937234d",
   "metadata": {},
   "source": [
    "# Import Data"
   ]
  },
  {
   "cell_type": "code",
   "execution_count": 33,
   "id": "fbf5f896",
   "metadata": {},
   "outputs": [
    {
     "data": {
      "text/html": [
       "<div>\n",
       "<style scoped>\n",
       "    .dataframe tbody tr th:only-of-type {\n",
       "        vertical-align: middle;\n",
       "    }\n",
       "\n",
       "    .dataframe tbody tr th {\n",
       "        vertical-align: top;\n",
       "    }\n",
       "\n",
       "    .dataframe thead th {\n",
       "        text-align: right;\n",
       "    }\n",
       "</style>\n",
       "<table border=\"1\" class=\"dataframe\">\n",
       "  <thead>\n",
       "    <tr style=\"text-align: right;\">\n",
       "      <th></th>\n",
       "      <th>Days</th>\n",
       "      <th>Priority</th>\n",
       "    </tr>\n",
       "  </thead>\n",
       "  <tbody>\n",
       "    <tr>\n",
       "      <th>0</th>\n",
       "      <td>3.3</td>\n",
       "      <td>High</td>\n",
       "    </tr>\n",
       "    <tr>\n",
       "      <th>1</th>\n",
       "      <td>7.9</td>\n",
       "      <td>Medium</td>\n",
       "    </tr>\n",
       "    <tr>\n",
       "      <th>2</th>\n",
       "      <td>0.3</td>\n",
       "      <td>High</td>\n",
       "    </tr>\n",
       "    <tr>\n",
       "      <th>3</th>\n",
       "      <td>0.7</td>\n",
       "      <td>Medium</td>\n",
       "    </tr>\n",
       "    <tr>\n",
       "      <th>4</th>\n",
       "      <td>8.6</td>\n",
       "      <td>Medium</td>\n",
       "    </tr>\n",
       "    <tr>\n",
       "      <th>...</th>\n",
       "      <td>...</td>\n",
       "      <td>...</td>\n",
       "    </tr>\n",
       "    <tr>\n",
       "      <th>637</th>\n",
       "      <td>2.5</td>\n",
       "      <td>Low</td>\n",
       "    </tr>\n",
       "    <tr>\n",
       "      <th>638</th>\n",
       "      <td>0.3</td>\n",
       "      <td>High</td>\n",
       "    </tr>\n",
       "    <tr>\n",
       "      <th>639</th>\n",
       "      <td>0.3</td>\n",
       "      <td>Medium</td>\n",
       "    </tr>\n",
       "    <tr>\n",
       "      <th>640</th>\n",
       "      <td>1.3</td>\n",
       "      <td>Medium</td>\n",
       "    </tr>\n",
       "    <tr>\n",
       "      <th>641</th>\n",
       "      <td>0.5</td>\n",
       "      <td>High</td>\n",
       "    </tr>\n",
       "  </tbody>\n",
       "</table>\n",
       "<p>642 rows × 2 columns</p>\n",
       "</div>"
      ],
      "text/plain": [
       "     Days Priority\n",
       "0     3.3     High\n",
       "1     7.9   Medium\n",
       "2     0.3     High\n",
       "3     0.7   Medium\n",
       "4     8.6   Medium\n",
       "..    ...      ...\n",
       "637   2.5      Low\n",
       "638   0.3     High\n",
       "639   0.3   Medium\n",
       "640   1.3   Medium\n",
       "641   0.5     High\n",
       "\n",
       "[642 rows x 2 columns]"
      ]
     },
     "execution_count": 33,
     "metadata": {},
     "output_type": "execute_result"
    }
   ],
   "source": [
    "priority=pd.read_csv(r'C:\\Users\\Deepika\\Downloads\\PYTHON\\Priority_Assessment.csv')\n",
    "priority"
   ]
  },
  {
   "cell_type": "markdown",
   "id": "1b28d937",
   "metadata": {},
   "source": [
    "# Data Audit"
   ]
  },
  {
   "cell_type": "code",
   "execution_count": 34,
   "id": "47513386",
   "metadata": {},
   "outputs": [
    {
     "name": "stdout",
     "output_type": "stream",
     "text": [
      "<class 'pandas.core.frame.DataFrame'>\n",
      "RangeIndex: 642 entries, 0 to 641\n",
      "Data columns (total 2 columns):\n",
      " #   Column    Non-Null Count  Dtype  \n",
      "---  ------    --------------  -----  \n",
      " 0   Days      642 non-null    float64\n",
      " 1   Priority  642 non-null    object \n",
      "dtypes: float64(1), object(1)\n",
      "memory usage: 10.2+ KB\n"
     ]
    }
   ],
   "source": [
    "priority.info()"
   ]
  },
  {
   "cell_type": "code",
   "execution_count": 35,
   "id": "bf7e5652",
   "metadata": {},
   "outputs": [
    {
     "data": {
      "text/plain": [
       "Days        float64\n",
       "Priority     object\n",
       "dtype: object"
      ]
     },
     "execution_count": 35,
     "metadata": {},
     "output_type": "execute_result"
    }
   ],
   "source": [
    "priority.dtypes"
   ]
  },
  {
   "cell_type": "code",
   "execution_count": 36,
   "id": "15d4836b",
   "metadata": {},
   "outputs": [
    {
     "data": {
      "text/plain": [
       "Days        0\n",
       "Priority    0\n",
       "dtype: int64"
      ]
     },
     "execution_count": 36,
     "metadata": {},
     "output_type": "execute_result"
    }
   ],
   "source": [
    "priority.isna().sum()"
   ]
  },
  {
   "cell_type": "markdown",
   "id": "d475d407",
   "metadata": {},
   "source": [
    "# Statistical Analysis"
   ]
  },
  {
   "cell_type": "raw",
   "id": "faea2e50",
   "metadata": {},
   "source": [
    "HO=All prioritization working system jobs are equal\n",
    "H1=Any one of the prioritization working system jobs are different"
   ]
  },
  {
   "cell_type": "raw",
   "id": "7eabbcdc",
   "metadata": {},
   "source": [
    "applying 95% Confidence Levels"
   ]
  },
  {
   "cell_type": "code",
   "execution_count": 37,
   "id": "1eadcaf9",
   "metadata": {},
   "outputs": [],
   "source": [
    "#obtaining samples\n",
    "grp1=priority.loc[(priority.Priority==\"High\")][['Days']]\n",
    "grp2=priority.loc[(priority.Priority==\"Medium\")][['Days']]\n",
    "grp3=priority.loc[(priority.Priority==\"Low\")][['Days']]\n"
   ]
  },
  {
   "cell_type": "code",
   "execution_count": 38,
   "id": "85911ce9",
   "metadata": {},
   "outputs": [
    {
     "data": {
      "text/plain": [
       "F_onewayResult(statistic=array([1.81231101]), pvalue=array([0.16411459]))"
      ]
     },
     "execution_count": 38,
     "metadata": {},
     "output_type": "execute_result"
    }
   ],
   "source": [
    "stats.f_oneway(grp1,grp2,grp3)"
   ]
  },
  {
   "cell_type": "raw",
   "id": "9aa8ac54",
   "metadata": {},
   "source": [
    "We see that p value (0.16411459) is greater than 0.05 i.e for 95% . Hence we  not rejecting Null Hypothesis\n",
    "\n"
   ]
  },
  {
   "cell_type": "markdown",
   "id": "21249ef3",
   "metadata": {},
   "source": [
    "Conculsion"
   ]
  },
  {
   "cell_type": "raw",
   "id": "c8e98b5a",
   "metadata": {},
   "source": [
    "As the significance value for f test is > 0.05 for 95% confidence level we can conclude that all prioritization system jobs are equal i.e if the system is working then high priority jobs,medium priority jobs and low priority jobs complete their jobs on equally time \n"
   ]
  },
  {
   "cell_type": "raw",
   "id": "93e7e261",
   "metadata": {},
   "source": [
    "BUSINEES PROBLEM 5\n",
    "\n",
    "\n",
    "a.What is the overall level of customer satisfaction?\n",
    "b.What factors are linked to satisfaction?\n",
    "c.What is the demographic profile of Film on the Rocks patrons?\n",
    "d.In what media outlet(s) should the film series be advertised?\n",
    "\n"
   ]
  },
  {
   "cell_type": "markdown",
   "id": "d95f9f92",
   "metadata": {},
   "source": [
    "# Import Data "
   ]
  },
  {
   "cell_type": "code",
   "execution_count": 39,
   "id": "633d0a38",
   "metadata": {},
   "outputs": [
    {
     "data": {
      "text/html": [
       "<div>\n",
       "<style scoped>\n",
       "    .dataframe tbody tr th:only-of-type {\n",
       "        vertical-align: middle;\n",
       "    }\n",
       "\n",
       "    .dataframe tbody tr th {\n",
       "        vertical-align: top;\n",
       "    }\n",
       "\n",
       "    .dataframe thead th {\n",
       "        text-align: right;\n",
       "    }\n",
       "</style>\n",
       "<table border=\"1\" class=\"dataframe\">\n",
       "  <thead>\n",
       "    <tr style=\"text-align: right;\">\n",
       "      <th></th>\n",
       "      <th>_rowstate_</th>\n",
       "      <th>Movie</th>\n",
       "      <th>Gender</th>\n",
       "      <th>Marital_Status</th>\n",
       "      <th>Sinage</th>\n",
       "      <th>Parking</th>\n",
       "      <th>Clean</th>\n",
       "      <th>Overall</th>\n",
       "      <th>Age</th>\n",
       "      <th>Income</th>\n",
       "      <th>Hear_About</th>\n",
       "    </tr>\n",
       "  </thead>\n",
       "  <tbody>\n",
       "    <tr>\n",
       "      <th>0</th>\n",
       "      <td>0</td>\n",
       "      <td>Ferris Buellers Day Off</td>\n",
       "      <td>Female</td>\n",
       "      <td>Married</td>\n",
       "      <td>2.0</td>\n",
       "      <td>2.0</td>\n",
       "      <td>2.0</td>\n",
       "      <td>2.0</td>\n",
       "      <td>3.0</td>\n",
       "      <td>1.0</td>\n",
       "      <td>5</td>\n",
       "    </tr>\n",
       "    <tr>\n",
       "      <th>1</th>\n",
       "      <td>0</td>\n",
       "      <td>Ferris Buellers Day Off</td>\n",
       "      <td>Female</td>\n",
       "      <td>Single</td>\n",
       "      <td>1.0</td>\n",
       "      <td>1.0</td>\n",
       "      <td>1.0</td>\n",
       "      <td>1.0</td>\n",
       "      <td>2.0</td>\n",
       "      <td>1.0</td>\n",
       "      <td>5</td>\n",
       "    </tr>\n",
       "    <tr>\n",
       "      <th>2</th>\n",
       "      <td>0</td>\n",
       "      <td>Ferris Buellers Day Off</td>\n",
       "      <td>Male</td>\n",
       "      <td>Married</td>\n",
       "      <td>2.0</td>\n",
       "      <td>4.0</td>\n",
       "      <td>3.0</td>\n",
       "      <td>2.0</td>\n",
       "      <td>4.0</td>\n",
       "      <td>1.0</td>\n",
       "      <td>5</td>\n",
       "    </tr>\n",
       "    <tr>\n",
       "      <th>3</th>\n",
       "      <td>0</td>\n",
       "      <td>Ferris Buellers Day Off</td>\n",
       "      <td>Female</td>\n",
       "      <td>Married</td>\n",
       "      <td>1.0</td>\n",
       "      <td>3.0</td>\n",
       "      <td>2.0</td>\n",
       "      <td>2.0</td>\n",
       "      <td>4.0</td>\n",
       "      <td>1.0</td>\n",
       "      <td>5</td>\n",
       "    </tr>\n",
       "    <tr>\n",
       "      <th>4</th>\n",
       "      <td>0</td>\n",
       "      <td>Ferris Buellers Day Off</td>\n",
       "      <td>Female</td>\n",
       "      <td>Married</td>\n",
       "      <td>1.0</td>\n",
       "      <td>1.0</td>\n",
       "      <td>1.0</td>\n",
       "      <td>1.0</td>\n",
       "      <td>3.0</td>\n",
       "      <td>3.0</td>\n",
       "      <td>1</td>\n",
       "    </tr>\n",
       "    <tr>\n",
       "      <th>...</th>\n",
       "      <td>...</td>\n",
       "      <td>...</td>\n",
       "      <td>...</td>\n",
       "      <td>...</td>\n",
       "      <td>...</td>\n",
       "      <td>...</td>\n",
       "      <td>...</td>\n",
       "      <td>...</td>\n",
       "      <td>...</td>\n",
       "      <td>...</td>\n",
       "      <td>...</td>\n",
       "    </tr>\n",
       "    <tr>\n",
       "      <th>325</th>\n",
       "      <td>0</td>\n",
       "      <td>Old School</td>\n",
       "      <td>2</td>\n",
       "      <td>2</td>\n",
       "      <td>1.0</td>\n",
       "      <td>2.0</td>\n",
       "      <td>1.0</td>\n",
       "      <td>1.0</td>\n",
       "      <td>2.0</td>\n",
       "      <td>1.0</td>\n",
       "      <td>1</td>\n",
       "    </tr>\n",
       "    <tr>\n",
       "      <th>326</th>\n",
       "      <td>0</td>\n",
       "      <td>Old School</td>\n",
       "      <td>1</td>\n",
       "      <td>1</td>\n",
       "      <td>2.0</td>\n",
       "      <td>2.0</td>\n",
       "      <td>2.0</td>\n",
       "      <td>2.0</td>\n",
       "      <td>3.0</td>\n",
       "      <td>3.0</td>\n",
       "      <td>5</td>\n",
       "    </tr>\n",
       "    <tr>\n",
       "      <th>327</th>\n",
       "      <td>0</td>\n",
       "      <td>Old School</td>\n",
       "      <td>2</td>\n",
       "      <td>1</td>\n",
       "      <td>2.0</td>\n",
       "      <td>1.0</td>\n",
       "      <td>1.0</td>\n",
       "      <td>2.0</td>\n",
       "      <td>2.0</td>\n",
       "      <td>2.0</td>\n",
       "      <td>5</td>\n",
       "    </tr>\n",
       "    <tr>\n",
       "      <th>328</th>\n",
       "      <td>0</td>\n",
       "      <td>Old School</td>\n",
       "      <td>1</td>\n",
       "      <td>1</td>\n",
       "      <td>1.0</td>\n",
       "      <td>1.0</td>\n",
       "      <td>1.0</td>\n",
       "      <td>1.0</td>\n",
       "      <td>2.0</td>\n",
       "      <td>1.0</td>\n",
       "      <td>3</td>\n",
       "    </tr>\n",
       "    <tr>\n",
       "      <th>329</th>\n",
       "      <td>0</td>\n",
       "      <td>Old School</td>\n",
       "      <td>2</td>\n",
       "      <td>2</td>\n",
       "      <td>2.0</td>\n",
       "      <td>2.0</td>\n",
       "      <td>3.0</td>\n",
       "      <td>1.0</td>\n",
       "      <td>2.0</td>\n",
       "      <td>1.0</td>\n",
       "      <td>5</td>\n",
       "    </tr>\n",
       "  </tbody>\n",
       "</table>\n",
       "<p>330 rows × 11 columns</p>\n",
       "</div>"
      ],
      "text/plain": [
       "     _rowstate_                    Movie  Gender Marital_Status  Sinage  \\\n",
       "0             0  Ferris Buellers Day Off  Female        Married     2.0   \n",
       "1             0  Ferris Buellers Day Off  Female         Single     1.0   \n",
       "2             0  Ferris Buellers Day Off    Male        Married     2.0   \n",
       "3             0  Ferris Buellers Day Off  Female        Married     1.0   \n",
       "4             0  Ferris Buellers Day Off  Female        Married     1.0   \n",
       "..          ...                      ...     ...            ...     ...   \n",
       "325           0               Old School       2              2     1.0   \n",
       "326           0               Old School       1              1     2.0   \n",
       "327           0               Old School       2              1     2.0   \n",
       "328           0               Old School       1              1     1.0   \n",
       "329           0               Old School       2              2     2.0   \n",
       "\n",
       "     Parking  Clean  Overall  Age  Income Hear_About  \n",
       "0        2.0    2.0      2.0  3.0     1.0          5  \n",
       "1        1.0    1.0      1.0  2.0     1.0          5  \n",
       "2        4.0    3.0      2.0  4.0     1.0          5  \n",
       "3        3.0    2.0      2.0  4.0     1.0          5  \n",
       "4        1.0    1.0      1.0  3.0     3.0          1  \n",
       "..       ...    ...      ...  ...     ...        ...  \n",
       "325      2.0    1.0      1.0  2.0     1.0          1  \n",
       "326      2.0    2.0      2.0  3.0     3.0          5  \n",
       "327      1.0    1.0      2.0  2.0     2.0          5  \n",
       "328      1.0    1.0      1.0  2.0     1.0          3  \n",
       "329      2.0    3.0      1.0  2.0     1.0          5  \n",
       "\n",
       "[330 rows x 11 columns]"
      ]
     },
     "execution_count": 39,
     "metadata": {},
     "output_type": "execute_result"
    }
   ],
   "source": [
    "film=pd.read_csv(r'C:\\Users\\Deepika\\Downloads\\PYTHON\\Films.csv')\n",
    "film"
   ]
  },
  {
   "cell_type": "markdown",
   "id": "75ecfc70",
   "metadata": {},
   "source": [
    "# Data Audit"
   ]
  },
  {
   "cell_type": "code",
   "execution_count": 40,
   "id": "28918cdb",
   "metadata": {},
   "outputs": [
    {
     "name": "stdout",
     "output_type": "stream",
     "text": [
      "<class 'pandas.core.frame.DataFrame'>\n",
      "RangeIndex: 330 entries, 0 to 329\n",
      "Data columns (total 11 columns):\n",
      " #   Column          Non-Null Count  Dtype  \n",
      "---  ------          --------------  -----  \n",
      " 0   _rowstate_      330 non-null    int64  \n",
      " 1   Movie           330 non-null    object \n",
      " 2   Gender          330 non-null    object \n",
      " 3   Marital_Status  328 non-null    object \n",
      " 4   Sinage          328 non-null    float64\n",
      " 5   Parking         328 non-null    float64\n",
      " 6   Clean           327 non-null    float64\n",
      " 7   Overall         328 non-null    float64\n",
      " 8   Age             328 non-null    float64\n",
      " 9   Income          314 non-null    float64\n",
      " 10  Hear_About      323 non-null    object \n",
      "dtypes: float64(6), int64(1), object(4)\n",
      "memory usage: 28.5+ KB\n"
     ]
    }
   ],
   "source": [
    "film.info()"
   ]
  },
  {
   "cell_type": "code",
   "execution_count": 41,
   "id": "719d8a60",
   "metadata": {},
   "outputs": [
    {
     "data": {
      "text/plain": [
       "_rowstate_          int64\n",
       "Movie              object\n",
       "Gender             object\n",
       "Marital_Status     object\n",
       "Sinage            float64\n",
       "Parking           float64\n",
       "Clean             float64\n",
       "Overall           float64\n",
       "Age               float64\n",
       "Income            float64\n",
       "Hear_About         object\n",
       "dtype: object"
      ]
     },
     "execution_count": 41,
     "metadata": {},
     "output_type": "execute_result"
    }
   ],
   "source": [
    "film.dtypes"
   ]
  },
  {
   "cell_type": "code",
   "execution_count": 42,
   "id": "425f0278",
   "metadata": {},
   "outputs": [
    {
     "data": {
      "text/plain": [
       "_rowstate_         0\n",
       "Movie              0\n",
       "Gender             0\n",
       "Marital_Status     2\n",
       "Sinage             2\n",
       "Parking            2\n",
       "Clean              3\n",
       "Overall            2\n",
       "Age                2\n",
       "Income            16\n",
       "Hear_About         7\n",
       "dtype: int64"
      ]
     },
     "execution_count": 42,
     "metadata": {},
     "output_type": "execute_result"
    }
   ],
   "source": [
    "film.isna().sum()"
   ]
  },
  {
   "cell_type": "markdown",
   "id": "66626056",
   "metadata": {},
   "source": [
    "# Data Cleaning"
   ]
  },
  {
   "cell_type": "code",
   "execution_count": 43,
   "id": "1e85ea22",
   "metadata": {},
   "outputs": [
    {
     "data": {
      "text/html": [
       "<div>\n",
       "<style scoped>\n",
       "    .dataframe tbody tr th:only-of-type {\n",
       "        vertical-align: middle;\n",
       "    }\n",
       "\n",
       "    .dataframe tbody tr th {\n",
       "        vertical-align: top;\n",
       "    }\n",
       "\n",
       "    .dataframe thead th {\n",
       "        text-align: right;\n",
       "    }\n",
       "</style>\n",
       "<table border=\"1\" class=\"dataframe\">\n",
       "  <thead>\n",
       "    <tr style=\"text-align: right;\">\n",
       "      <th></th>\n",
       "      <th>_rowstate_</th>\n",
       "      <th>Movie</th>\n",
       "      <th>Gender</th>\n",
       "      <th>Marital_Status</th>\n",
       "      <th>Sinage</th>\n",
       "      <th>Parking</th>\n",
       "      <th>Clean</th>\n",
       "      <th>Overall</th>\n",
       "      <th>Age</th>\n",
       "      <th>Income</th>\n",
       "      <th>Hear_About</th>\n",
       "    </tr>\n",
       "  </thead>\n",
       "  <tbody>\n",
       "    <tr>\n",
       "      <th>0</th>\n",
       "      <td>0</td>\n",
       "      <td>Ferris Buellers Day Off</td>\n",
       "      <td>Female</td>\n",
       "      <td>Married</td>\n",
       "      <td>2.0</td>\n",
       "      <td>2.0</td>\n",
       "      <td>2.0</td>\n",
       "      <td>2.0</td>\n",
       "      <td>3.0</td>\n",
       "      <td>1.0</td>\n",
       "      <td>5</td>\n",
       "    </tr>\n",
       "    <tr>\n",
       "      <th>1</th>\n",
       "      <td>0</td>\n",
       "      <td>Ferris Buellers Day Off</td>\n",
       "      <td>Female</td>\n",
       "      <td>Single</td>\n",
       "      <td>1.0</td>\n",
       "      <td>1.0</td>\n",
       "      <td>1.0</td>\n",
       "      <td>1.0</td>\n",
       "      <td>2.0</td>\n",
       "      <td>1.0</td>\n",
       "      <td>5</td>\n",
       "    </tr>\n",
       "    <tr>\n",
       "      <th>2</th>\n",
       "      <td>0</td>\n",
       "      <td>Ferris Buellers Day Off</td>\n",
       "      <td>Male</td>\n",
       "      <td>Married</td>\n",
       "      <td>2.0</td>\n",
       "      <td>4.0</td>\n",
       "      <td>3.0</td>\n",
       "      <td>2.0</td>\n",
       "      <td>4.0</td>\n",
       "      <td>1.0</td>\n",
       "      <td>5</td>\n",
       "    </tr>\n",
       "    <tr>\n",
       "      <th>3</th>\n",
       "      <td>0</td>\n",
       "      <td>Ferris Buellers Day Off</td>\n",
       "      <td>Female</td>\n",
       "      <td>Married</td>\n",
       "      <td>1.0</td>\n",
       "      <td>3.0</td>\n",
       "      <td>2.0</td>\n",
       "      <td>2.0</td>\n",
       "      <td>4.0</td>\n",
       "      <td>1.0</td>\n",
       "      <td>5</td>\n",
       "    </tr>\n",
       "    <tr>\n",
       "      <th>4</th>\n",
       "      <td>0</td>\n",
       "      <td>Ferris Buellers Day Off</td>\n",
       "      <td>Female</td>\n",
       "      <td>Married</td>\n",
       "      <td>1.0</td>\n",
       "      <td>1.0</td>\n",
       "      <td>1.0</td>\n",
       "      <td>1.0</td>\n",
       "      <td>3.0</td>\n",
       "      <td>3.0</td>\n",
       "      <td>1</td>\n",
       "    </tr>\n",
       "    <tr>\n",
       "      <th>...</th>\n",
       "      <td>...</td>\n",
       "      <td>...</td>\n",
       "      <td>...</td>\n",
       "      <td>...</td>\n",
       "      <td>...</td>\n",
       "      <td>...</td>\n",
       "      <td>...</td>\n",
       "      <td>...</td>\n",
       "      <td>...</td>\n",
       "      <td>...</td>\n",
       "      <td>...</td>\n",
       "    </tr>\n",
       "    <tr>\n",
       "      <th>325</th>\n",
       "      <td>0</td>\n",
       "      <td>Old School</td>\n",
       "      <td>2</td>\n",
       "      <td>2</td>\n",
       "      <td>1.0</td>\n",
       "      <td>2.0</td>\n",
       "      <td>1.0</td>\n",
       "      <td>1.0</td>\n",
       "      <td>2.0</td>\n",
       "      <td>1.0</td>\n",
       "      <td>1</td>\n",
       "    </tr>\n",
       "    <tr>\n",
       "      <th>326</th>\n",
       "      <td>0</td>\n",
       "      <td>Old School</td>\n",
       "      <td>1</td>\n",
       "      <td>1</td>\n",
       "      <td>2.0</td>\n",
       "      <td>2.0</td>\n",
       "      <td>2.0</td>\n",
       "      <td>2.0</td>\n",
       "      <td>3.0</td>\n",
       "      <td>3.0</td>\n",
       "      <td>5</td>\n",
       "    </tr>\n",
       "    <tr>\n",
       "      <th>327</th>\n",
       "      <td>0</td>\n",
       "      <td>Old School</td>\n",
       "      <td>2</td>\n",
       "      <td>1</td>\n",
       "      <td>2.0</td>\n",
       "      <td>1.0</td>\n",
       "      <td>1.0</td>\n",
       "      <td>2.0</td>\n",
       "      <td>2.0</td>\n",
       "      <td>2.0</td>\n",
       "      <td>5</td>\n",
       "    </tr>\n",
       "    <tr>\n",
       "      <th>328</th>\n",
       "      <td>0</td>\n",
       "      <td>Old School</td>\n",
       "      <td>1</td>\n",
       "      <td>1</td>\n",
       "      <td>1.0</td>\n",
       "      <td>1.0</td>\n",
       "      <td>1.0</td>\n",
       "      <td>1.0</td>\n",
       "      <td>2.0</td>\n",
       "      <td>1.0</td>\n",
       "      <td>3</td>\n",
       "    </tr>\n",
       "    <tr>\n",
       "      <th>329</th>\n",
       "      <td>0</td>\n",
       "      <td>Old School</td>\n",
       "      <td>2</td>\n",
       "      <td>2</td>\n",
       "      <td>2.0</td>\n",
       "      <td>2.0</td>\n",
       "      <td>3.0</td>\n",
       "      <td>1.0</td>\n",
       "      <td>2.0</td>\n",
       "      <td>1.0</td>\n",
       "      <td>5</td>\n",
       "    </tr>\n",
       "  </tbody>\n",
       "</table>\n",
       "<p>301 rows × 11 columns</p>\n",
       "</div>"
      ],
      "text/plain": [
       "     _rowstate_                    Movie  Gender Marital_Status  Sinage  \\\n",
       "0             0  Ferris Buellers Day Off  Female        Married     2.0   \n",
       "1             0  Ferris Buellers Day Off  Female         Single     1.0   \n",
       "2             0  Ferris Buellers Day Off    Male        Married     2.0   \n",
       "3             0  Ferris Buellers Day Off  Female        Married     1.0   \n",
       "4             0  Ferris Buellers Day Off  Female        Married     1.0   \n",
       "..          ...                      ...     ...            ...     ...   \n",
       "325           0               Old School       2              2     1.0   \n",
       "326           0               Old School       1              1     2.0   \n",
       "327           0               Old School       2              1     2.0   \n",
       "328           0               Old School       1              1     1.0   \n",
       "329           0               Old School       2              2     2.0   \n",
       "\n",
       "     Parking  Clean  Overall  Age  Income Hear_About  \n",
       "0        2.0    2.0      2.0  3.0     1.0          5  \n",
       "1        1.0    1.0      1.0  2.0     1.0          5  \n",
       "2        4.0    3.0      2.0  4.0     1.0          5  \n",
       "3        3.0    2.0      2.0  4.0     1.0          5  \n",
       "4        1.0    1.0      1.0  3.0     3.0          1  \n",
       "..       ...    ...      ...  ...     ...        ...  \n",
       "325      2.0    1.0      1.0  2.0     1.0          1  \n",
       "326      2.0    2.0      2.0  3.0     3.0          5  \n",
       "327      1.0    1.0      2.0  2.0     2.0          5  \n",
       "328      1.0    1.0      1.0  2.0     1.0          3  \n",
       "329      2.0    3.0      1.0  2.0     1.0          5  \n",
       "\n",
       "[301 rows x 11 columns]"
      ]
     },
     "execution_count": 43,
     "metadata": {},
     "output_type": "execute_result"
    }
   ],
   "source": [
    "film=film.dropna()\n",
    "film"
   ]
  },
  {
   "cell_type": "code",
   "execution_count": 44,
   "id": "e65e6b8e",
   "metadata": {},
   "outputs": [],
   "source": [
    "def gender (x):\n",
    "    if x.Gender == 'Male' :\n",
    "        return '1'\n",
    "    elif x.Gender == 'Female'  :\n",
    "        return '2'\n",
    "    elif x.Gender == '1'  :\n",
    "        return '1'\n",
    "    else :\n",
    "        return '2'"
   ]
  },
  {
   "cell_type": "code",
   "execution_count": 45,
   "id": "56d344ce",
   "metadata": {},
   "outputs": [],
   "source": [
    "#converting males to 1 and females to 2 \n",
    "film.Gender = film.apply(gender, axis=1)"
   ]
  },
  {
   "cell_type": "code",
   "execution_count": 46,
   "id": "eddff787",
   "metadata": {},
   "outputs": [],
   "source": [
    "def married_status (x):\n",
    "    if x.Marital_Status == 'Married' :\n",
    "        return '1'\n",
    "    elif x.Marital_Status == 'Single'  :\n",
    "        return '2'\n",
    "    elif x.Marital_Status == '1'  :\n",
    "        return '1'\n",
    "    else :\n",
    "        return '2'"
   ]
  },
  {
   "cell_type": "code",
   "execution_count": 47,
   "id": "7d39931a",
   "metadata": {},
   "outputs": [],
   "source": [
    "#converting married to 1 and singles to 2\n",
    "film.Marital_Status = film.apply(married_status, axis=1)"
   ]
  },
  {
   "cell_type": "code",
   "execution_count": 48,
   "id": "e02f36fe",
   "metadata": {},
   "outputs": [
    {
     "data": {
      "text/html": [
       "<div>\n",
       "<style scoped>\n",
       "    .dataframe tbody tr th:only-of-type {\n",
       "        vertical-align: middle;\n",
       "    }\n",
       "\n",
       "    .dataframe tbody tr th {\n",
       "        vertical-align: top;\n",
       "    }\n",
       "\n",
       "    .dataframe thead th {\n",
       "        text-align: right;\n",
       "    }\n",
       "</style>\n",
       "<table border=\"1\" class=\"dataframe\">\n",
       "  <thead>\n",
       "    <tr style=\"text-align: right;\">\n",
       "      <th></th>\n",
       "      <th>_rowstate_</th>\n",
       "      <th>Movie</th>\n",
       "      <th>Gender</th>\n",
       "      <th>Marital_Status</th>\n",
       "      <th>Sinage</th>\n",
       "      <th>Parking</th>\n",
       "      <th>Clean</th>\n",
       "      <th>Overall</th>\n",
       "      <th>Age</th>\n",
       "      <th>Income</th>\n",
       "      <th>Hear_About</th>\n",
       "    </tr>\n",
       "  </thead>\n",
       "  <tbody>\n",
       "    <tr>\n",
       "      <th>0</th>\n",
       "      <td>0</td>\n",
       "      <td>Ferris Buellers Day Off</td>\n",
       "      <td>2</td>\n",
       "      <td>1</td>\n",
       "      <td>2.0</td>\n",
       "      <td>2.0</td>\n",
       "      <td>2.0</td>\n",
       "      <td>2.0</td>\n",
       "      <td>3.0</td>\n",
       "      <td>1.0</td>\n",
       "      <td>5</td>\n",
       "    </tr>\n",
       "    <tr>\n",
       "      <th>1</th>\n",
       "      <td>0</td>\n",
       "      <td>Ferris Buellers Day Off</td>\n",
       "      <td>2</td>\n",
       "      <td>2</td>\n",
       "      <td>1.0</td>\n",
       "      <td>1.0</td>\n",
       "      <td>1.0</td>\n",
       "      <td>1.0</td>\n",
       "      <td>2.0</td>\n",
       "      <td>1.0</td>\n",
       "      <td>5</td>\n",
       "    </tr>\n",
       "    <tr>\n",
       "      <th>2</th>\n",
       "      <td>0</td>\n",
       "      <td>Ferris Buellers Day Off</td>\n",
       "      <td>1</td>\n",
       "      <td>1</td>\n",
       "      <td>2.0</td>\n",
       "      <td>4.0</td>\n",
       "      <td>3.0</td>\n",
       "      <td>2.0</td>\n",
       "      <td>4.0</td>\n",
       "      <td>1.0</td>\n",
       "      <td>5</td>\n",
       "    </tr>\n",
       "    <tr>\n",
       "      <th>3</th>\n",
       "      <td>0</td>\n",
       "      <td>Ferris Buellers Day Off</td>\n",
       "      <td>2</td>\n",
       "      <td>1</td>\n",
       "      <td>1.0</td>\n",
       "      <td>3.0</td>\n",
       "      <td>2.0</td>\n",
       "      <td>2.0</td>\n",
       "      <td>4.0</td>\n",
       "      <td>1.0</td>\n",
       "      <td>5</td>\n",
       "    </tr>\n",
       "    <tr>\n",
       "      <th>4</th>\n",
       "      <td>0</td>\n",
       "      <td>Ferris Buellers Day Off</td>\n",
       "      <td>2</td>\n",
       "      <td>1</td>\n",
       "      <td>1.0</td>\n",
       "      <td>1.0</td>\n",
       "      <td>1.0</td>\n",
       "      <td>1.0</td>\n",
       "      <td>3.0</td>\n",
       "      <td>3.0</td>\n",
       "      <td>1</td>\n",
       "    </tr>\n",
       "    <tr>\n",
       "      <th>...</th>\n",
       "      <td>...</td>\n",
       "      <td>...</td>\n",
       "      <td>...</td>\n",
       "      <td>...</td>\n",
       "      <td>...</td>\n",
       "      <td>...</td>\n",
       "      <td>...</td>\n",
       "      <td>...</td>\n",
       "      <td>...</td>\n",
       "      <td>...</td>\n",
       "      <td>...</td>\n",
       "    </tr>\n",
       "    <tr>\n",
       "      <th>325</th>\n",
       "      <td>0</td>\n",
       "      <td>Old School</td>\n",
       "      <td>2</td>\n",
       "      <td>2</td>\n",
       "      <td>1.0</td>\n",
       "      <td>2.0</td>\n",
       "      <td>1.0</td>\n",
       "      <td>1.0</td>\n",
       "      <td>2.0</td>\n",
       "      <td>1.0</td>\n",
       "      <td>1</td>\n",
       "    </tr>\n",
       "    <tr>\n",
       "      <th>326</th>\n",
       "      <td>0</td>\n",
       "      <td>Old School</td>\n",
       "      <td>1</td>\n",
       "      <td>1</td>\n",
       "      <td>2.0</td>\n",
       "      <td>2.0</td>\n",
       "      <td>2.0</td>\n",
       "      <td>2.0</td>\n",
       "      <td>3.0</td>\n",
       "      <td>3.0</td>\n",
       "      <td>5</td>\n",
       "    </tr>\n",
       "    <tr>\n",
       "      <th>327</th>\n",
       "      <td>0</td>\n",
       "      <td>Old School</td>\n",
       "      <td>2</td>\n",
       "      <td>1</td>\n",
       "      <td>2.0</td>\n",
       "      <td>1.0</td>\n",
       "      <td>1.0</td>\n",
       "      <td>2.0</td>\n",
       "      <td>2.0</td>\n",
       "      <td>2.0</td>\n",
       "      <td>5</td>\n",
       "    </tr>\n",
       "    <tr>\n",
       "      <th>328</th>\n",
       "      <td>0</td>\n",
       "      <td>Old School</td>\n",
       "      <td>1</td>\n",
       "      <td>1</td>\n",
       "      <td>1.0</td>\n",
       "      <td>1.0</td>\n",
       "      <td>1.0</td>\n",
       "      <td>1.0</td>\n",
       "      <td>2.0</td>\n",
       "      <td>1.0</td>\n",
       "      <td>3</td>\n",
       "    </tr>\n",
       "    <tr>\n",
       "      <th>329</th>\n",
       "      <td>0</td>\n",
       "      <td>Old School</td>\n",
       "      <td>2</td>\n",
       "      <td>2</td>\n",
       "      <td>2.0</td>\n",
       "      <td>2.0</td>\n",
       "      <td>3.0</td>\n",
       "      <td>1.0</td>\n",
       "      <td>2.0</td>\n",
       "      <td>1.0</td>\n",
       "      <td>5</td>\n",
       "    </tr>\n",
       "  </tbody>\n",
       "</table>\n",
       "<p>301 rows × 11 columns</p>\n",
       "</div>"
      ],
      "text/plain": [
       "     _rowstate_                    Movie Gender Marital_Status  Sinage  \\\n",
       "0             0  Ferris Buellers Day Off      2              1     2.0   \n",
       "1             0  Ferris Buellers Day Off      2              2     1.0   \n",
       "2             0  Ferris Buellers Day Off      1              1     2.0   \n",
       "3             0  Ferris Buellers Day Off      2              1     1.0   \n",
       "4             0  Ferris Buellers Day Off      2              1     1.0   \n",
       "..          ...                      ...    ...            ...     ...   \n",
       "325           0               Old School      2              2     1.0   \n",
       "326           0               Old School      1              1     2.0   \n",
       "327           0               Old School      2              1     2.0   \n",
       "328           0               Old School      1              1     1.0   \n",
       "329           0               Old School      2              2     2.0   \n",
       "\n",
       "     Parking  Clean  Overall  Age  Income Hear_About  \n",
       "0        2.0    2.0      2.0  3.0     1.0          5  \n",
       "1        1.0    1.0      1.0  2.0     1.0          5  \n",
       "2        4.0    3.0      2.0  4.0     1.0          5  \n",
       "3        3.0    2.0      2.0  4.0     1.0          5  \n",
       "4        1.0    1.0      1.0  3.0     3.0          1  \n",
       "..       ...    ...      ...  ...     ...        ...  \n",
       "325      2.0    1.0      1.0  2.0     1.0          1  \n",
       "326      2.0    2.0      2.0  3.0     3.0          5  \n",
       "327      1.0    1.0      2.0  2.0     2.0          5  \n",
       "328      1.0    1.0      1.0  2.0     1.0          3  \n",
       "329      2.0    3.0      1.0  2.0     1.0          5  \n",
       "\n",
       "[301 rows x 11 columns]"
      ]
     },
     "execution_count": 48,
     "metadata": {},
     "output_type": "execute_result"
    }
   ],
   "source": [
    "film"
   ]
  },
  {
   "cell_type": "markdown",
   "id": "ca9c511a",
   "metadata": {},
   "source": [
    "# Statistical Analysis`"
   ]
  },
  {
   "cell_type": "raw",
   "id": "ce1e89e4",
   "metadata": {},
   "source": [
    "Finding Overall level of  Customer Satisfaction"
   ]
  },
  {
   "cell_type": "code",
   "execution_count": 49,
   "id": "96084777",
   "metadata": {},
   "outputs": [
    {
     "name": "stdout",
     "output_type": "stream",
     "text": [
      "1.6212624584717608 301 0.6753367561589327 0.038925763497347034\n"
     ]
    }
   ],
   "source": [
    "# Finding Mean,Standard Deviation and Standard Error to know the Confidence Intervals\n",
    "\n",
    "mean=film.Overall.mean()\n",
    "length=len(film)\n",
    "SD=film.Overall.std()\n",
    "SE=SD/np.sqrt(length)\n",
    "print(mean,length,SD,SE)"
   ]
  },
  {
   "cell_type": "code",
   "execution_count": 50,
   "id": "ff874a5c",
   "metadata": {},
   "outputs": [
    {
     "name": "stdout",
     "output_type": "stream",
     "text": [
      "1.5449679620169605 1.697556954926561\n"
     ]
    }
   ],
   "source": [
    "#for 95% Confidence Level\n",
    "\n",
    "L=mean-(1.96*SE)\n",
    "U=mean+(1.96*SE)\n",
    "print(L,U)"
   ]
  },
  {
   "cell_type": "markdown",
   "id": "e0c1e973",
   "metadata": {},
   "source": [
    "Conclusion"
   ]
  },
  {
   "cell_type": "raw",
   "id": "a7be588d",
   "metadata": {},
   "source": [
    "Overall Customer Satisfaction lies between(1.5449679620169605,1.697556954926561)"
   ]
  },
  {
   "cell_type": "raw",
   "id": "e8c9c159",
   "metadata": {},
   "source": [
    "Finding what are the factors that linked to satisfaction"
   ]
  },
  {
   "cell_type": "code",
   "execution_count": 51,
   "id": "2d22d9cd",
   "metadata": {},
   "outputs": [
    {
     "data": {
      "text/plain": [
       "(121.32462033201084,\n",
       " 3.054444776360607e-18,\n",
       " 16,\n",
       " array([[4.77906977e+01, 5.16279070e+01, 4.18604651e+00, 3.48837209e-01,\n",
       "         1.04651163e+00],\n",
       "        [6.37209302e+01, 6.88372093e+01, 5.58139535e+00, 4.65116279e-01,\n",
       "         1.39534884e+00],\n",
       "        [2.04817276e+01, 2.21262458e+01, 1.79401993e+00, 1.49501661e-01,\n",
       "         4.48504983e-01],\n",
       "        [2.73089701e+00, 2.95016611e+00, 2.39202658e-01, 1.99335548e-02,\n",
       "         5.98006645e-02],\n",
       "        [2.27574751e+00, 2.45847176e+00, 1.99335548e-01, 1.66112957e-02,\n",
       "         4.98338870e-02]]))"
      ]
     },
     "execution_count": 51,
     "metadata": {},
     "output_type": "execute_result"
    }
   ],
   "source": [
    "# data prep for chi square test\n",
    "obs = pd.crosstab( film.Sinage,film.Overall )\n",
    "\n",
    "# Ho: No relationship, independant\n",
    "# H1: variables are related, dependant\n",
    "   \n",
    "# CI: 95%\n",
    "# p: 0.05\n",
    "  \n",
    "\n",
    "# perform the test\n",
    "\n",
    "stats.chi2_contingency( obs )\n",
    "\n",
    "# business conclusion\n",
    "# with increase in sinage rating overall staifaction is also increases"
   ]
  },
  {
   "cell_type": "markdown",
   "id": "f6af2edd",
   "metadata": {},
   "source": [
    "Conclusion"
   ]
  },
  {
   "cell_type": "raw",
   "id": "010399c1",
   "metadata": {},
   "source": [
    "We see that p value (3.054444776360607e-18) is less than 0.05 i.e for 95% . Hence we  rejecting Null Hypothesis\n",
    "Thus we conclude that as Sinage increases Overall Satisfaction increases.\n",
    "\n"
   ]
  },
  {
   "cell_type": "code",
   "execution_count": 52,
   "id": "f89ed668",
   "metadata": {},
   "outputs": [
    {
     "data": {
      "text/plain": [
       "(218.79348282085004,\n",
       " 1.2264032549812005e-37,\n",
       " 16,\n",
       " array([[5.55282392e+01, 5.99867110e+01, 4.86378738e+00, 4.05315615e-01,\n",
       "         1.21594684e+00],\n",
       "        [6.32657807e+01, 6.83455150e+01, 5.54152824e+00, 4.61794020e-01,\n",
       "         1.38538206e+00],\n",
       "        [1.31993355e+01, 1.42591362e+01, 1.15614618e+00, 9.63455150e-02,\n",
       "         2.89036545e-01],\n",
       "        [3.18604651e+00, 3.44186047e+00, 2.79069767e-01, 2.32558140e-02,\n",
       "         6.97674419e-02],\n",
       "        [1.82059801e+00, 1.96677741e+00, 1.59468439e-01, 1.32890365e-02,\n",
       "         3.98671096e-02]]))"
      ]
     },
     "execution_count": 52,
     "metadata": {},
     "output_type": "execute_result"
    }
   ],
   "source": [
    "# data prep for chi square test\n",
    "obs = pd.crosstab( film.Parking,film.Overall )\n",
    "\n",
    "# Ho: No relationship, independant\n",
    "# Ha: variables are related, dependant\n",
    "   \n",
    "# CI: 95%\n",
    "# p: 0.05\n",
    "  \n",
    "\n",
    "# perform the test\n",
    "\n",
    "stats.chi2_contingency( obs )\n",
    "\n",
    "# business conclusion\n",
    "# with increase in parking rating overall staifaction is also increases"
   ]
  },
  {
   "cell_type": "markdown",
   "id": "d8d64539",
   "metadata": {},
   "source": [
    "Conclusion"
   ]
  },
  {
   "cell_type": "raw",
   "id": "2f5c5188",
   "metadata": {},
   "source": [
    "We see that p value (1.2264032549812005e-37) is less than 0.05 i.e for 95% . Hence we  rejecting Null Hypothesis\n",
    "Thus we conclude that as Parking rating increases Overall Satisfaction increases.\n"
   ]
  },
  {
   "cell_type": "code",
   "execution_count": 53,
   "id": "fc2f4d91",
   "metadata": {},
   "outputs": [
    {
     "data": {
      "text/plain": [
       "(129.0342392337068,\n",
       " 9.882317099745693e-20,\n",
       " 16,\n",
       " array([[6.09900332e+01, 6.58870432e+01, 5.34219269e+00, 4.45182724e-01,\n",
       "         1.33554817e+00],\n",
       "        [6.28106312e+01, 6.78538206e+01, 5.50166113e+00, 4.58471761e-01,\n",
       "         1.37541528e+00],\n",
       "        [1.00132890e+01, 1.08172757e+01, 8.77076412e-01, 7.30897010e-02,\n",
       "         2.19269103e-01],\n",
       "        [2.27574751e+00, 2.45847176e+00, 1.99335548e-01, 1.66112957e-02,\n",
       "         4.98338870e-02],\n",
       "        [9.10299003e-01, 9.83388704e-01, 7.97342193e-02, 6.64451827e-03,\n",
       "         1.99335548e-02]]))"
      ]
     },
     "execution_count": 53,
     "metadata": {},
     "output_type": "execute_result"
    }
   ],
   "source": [
    "# data prep for chi square test\n",
    "obs = pd.crosstab( film.Clean,film.Overall )\n",
    "\n",
    "# Ho: No relationship, independant\n",
    "# Ha: variables are related, dependant\n",
    "   \n",
    "# CI: 95%\n",
    "# p: 0.05\n",
    "  \n",
    "\n",
    "# perform the test\n",
    "\n",
    "stats.chi2_contingency( obs )\n",
    "\n",
    "# business conclusion\n",
    "# with increase in clean rating overall staifaction is also increases"
   ]
  },
  {
   "cell_type": "markdown",
   "id": "88889f2a",
   "metadata": {},
   "source": [
    "Conclusion"
   ]
  },
  {
   "cell_type": "raw",
   "id": "01e62180",
   "metadata": {},
   "source": [
    "We see that p value (9.882317099745693e-20) is less than 0.05 i.e for 95% . Hence we  rejecting Null Hypothesis\n",
    "Thus we conclude that as Cleaning rating increases Overall Satisfaction increases.\n"
   ]
  },
  {
   "cell_type": "code",
   "execution_count": 54,
   "id": "b02a39ea",
   "metadata": {},
   "outputs": [
    {
     "data": {
      "text/plain": [
       "(3.520985228074472,\n",
       " 0.4746946769990794,\n",
       " 4,\n",
       " array([[48.24584718, 52.11960133,  4.22591362,  0.35215947,  1.05647841],\n",
       "        [88.75415282, 95.88039867,  7.77408638,  0.64784053,  1.94352159]]))"
      ]
     },
     "execution_count": 54,
     "metadata": {},
     "output_type": "execute_result"
    }
   ],
   "source": [
    "# data prep for chi square test\n",
    "obs = pd.crosstab( film.Gender,film.Overall )\n",
    "\n",
    "# Ho: No relationship, independant\n",
    "# Ha: variables are related, dependant\n",
    "   \n",
    "# CI: 95%\n",
    "# p: 0.05\n",
    "  \n",
    "\n",
    "# perform the test\n",
    "\n",
    "stats.chi2_contingency( obs )\n",
    "\n",
    "# business conclusion\n",
    "# overall staifaction is depending on Gender"
   ]
  },
  {
   "cell_type": "markdown",
   "id": "08a6961d",
   "metadata": {},
   "source": [
    "Conclusion"
   ]
  },
  {
   "cell_type": "raw",
   "id": "b0a959b4",
   "metadata": {},
   "source": [
    "We see that p value (0.4746946769990794) is greater than 0.05 i.e for 95% . Hence we not  rejecting Null Hypothesis\n",
    "Thus we conclude that Overall satisfaction is independent to Gender.\n"
   ]
  },
  {
   "cell_type": "code",
   "execution_count": 55,
   "id": "b9814100",
   "metadata": {},
   "outputs": [
    {
     "data": {
      "text/plain": [
       "(4.716918153414504,\n",
       " 0.3175954690113918,\n",
       " 4,\n",
       " array([[ 41.41860465,  44.74418605,   3.62790698,   0.30232558,\n",
       "           0.90697674],\n",
       "        [ 95.58139535, 103.25581395,   8.37209302,   0.69767442,\n",
       "           2.09302326]]))"
      ]
     },
     "execution_count": 55,
     "metadata": {},
     "output_type": "execute_result"
    }
   ],
   "source": [
    "# data prep for chi square test\n",
    "obs = pd.crosstab( film.Marital_Status,film.Overall )\n",
    "\n",
    "# Ho: No relationship, independant\n",
    "# Ha: variables are related, dependant\n",
    "   \n",
    "# CI: 95%\n",
    "# p: 0.05\n",
    "  \n",
    "\n",
    "# perform the test\n",
    "\n",
    "stats.chi2_contingency( obs )\n",
    "\n",
    "# business conclusion\n",
    "# overall staifaction is depending on Martial Status"
   ]
  },
  {
   "cell_type": "markdown",
   "id": "49d6561a",
   "metadata": {},
   "source": [
    "Conclusion"
   ]
  },
  {
   "cell_type": "raw",
   "id": "34bda826",
   "metadata": {},
   "source": [
    "We see that p value (0.3175954690113918) is greater than 0.05 i.e for 95% . Hence we not  rejecting Null Hypothesis\n",
    "Thus we conclude that Overall satisfaction is independent to Martial status.\n"
   ]
  },
  {
   "cell_type": "code",
   "execution_count": 56,
   "id": "47c17856",
   "metadata": {},
   "outputs": [
    {
     "data": {
      "text/plain": [
       "(11.024837235069565,\n",
       " 0.5267913370930692,\n",
       " 12,\n",
       " array([[1.00132890e+01, 1.08172757e+01, 8.77076412e-01, 7.30897010e-02,\n",
       "         2.19269103e-01],\n",
       "        [7.46445183e+01, 8.06378738e+01, 6.53820598e+00, 5.44850498e-01,\n",
       "         1.63455150e+00],\n",
       "        [4.91561462e+01, 5.31029900e+01, 4.30564784e+00, 3.58803987e-01,\n",
       "         1.07641196e+00],\n",
       "        [3.18604651e+00, 3.44186047e+00, 2.79069767e-01, 2.32558140e-02,\n",
       "         6.97674419e-02]]))"
      ]
     },
     "execution_count": 56,
     "metadata": {},
     "output_type": "execute_result"
    }
   ],
   "source": [
    "# data prep for chi square test\n",
    "obs = pd.crosstab( film.Age,film.Overall )\n",
    "\n",
    "# Ho: No relationship, independant\n",
    "# Ha: variables are related, dependant\n",
    "   \n",
    "# CI: 95%\n",
    "# p: 0.05\n",
    "  \n",
    "\n",
    "# perform the test\n",
    "\n",
    "stats.chi2_contingency( obs )\n",
    "\n",
    "# business conclusion\n",
    "# overall staifaction is depending on Age"
   ]
  },
  {
   "cell_type": "markdown",
   "id": "de996303",
   "metadata": {},
   "source": [
    "Conclusion"
   ]
  },
  {
   "cell_type": "raw",
   "id": "7712cf72",
   "metadata": {},
   "source": [
    "We see that p value (0.5267913370930692) is greater than 0.05 i.e for 95% . Hence we not  rejecting Null Hypothesis\n",
    "Thus we conclude that Overall satisfaction is independent to Age.\n"
   ]
  },
  {
   "cell_type": "code",
   "execution_count": 57,
   "id": "e6c5a6c4",
   "metadata": {},
   "outputs": [
    {
     "data": {
      "text/plain": [
       "(4.9478735426424,\n",
       " 0.7631326888324932,\n",
       " 8,\n",
       " array([[61.44518272, 66.37873754,  5.3820598 ,  0.44850498,  1.34551495],\n",
       "        [36.41196013, 39.33554817,  3.18936877,  0.26578073,  0.79734219],\n",
       "        [39.14285714, 42.28571429,  3.42857143,  0.28571429,  0.85714286]]))"
      ]
     },
     "execution_count": 57,
     "metadata": {},
     "output_type": "execute_result"
    }
   ],
   "source": [
    "# data prep for chi square test\n",
    "obs = pd.crosstab( film.Income,film.Overall )\n",
    "\n",
    "# Ho: No relationship, independant\n",
    "# Ha: variables are related, dependant\n",
    "   \n",
    "# CI: 95%\n",
    "# p: 0.05\n",
    "  \n",
    "\n",
    "# perform the test\n",
    "\n",
    "stats.chi2_contingency( obs )\n",
    "\n",
    "# business conclusion\n",
    "# overall staifaction is depending on Income"
   ]
  },
  {
   "cell_type": "markdown",
   "id": "30e8d29d",
   "metadata": {},
   "source": [
    "Conclusion"
   ]
  },
  {
   "cell_type": "raw",
   "id": "79809535",
   "metadata": {},
   "source": [
    "We see that p value (0.7631326888324932) is greater than 0.05 i.e for 95% . Hence we not  rejecting Null Hypothesis\n",
    "Thus we conclude that Overall satisfaction is independent to Income.\n"
   ]
  },
  {
   "cell_type": "code",
   "execution_count": 58,
   "id": "a85dcd67",
   "metadata": {},
   "outputs": [
    {
     "data": {
      "text/plain": [
       "(21.659744148982803,\n",
       " 0.9920532791201511,\n",
       " 40,\n",
       " array([[8.64784053e+00, 9.34219269e+00, 7.57475083e-01, 6.31229236e-02,\n",
       "         1.89368771e-01],\n",
       "        [4.55149502e-01, 4.91694352e-01, 3.98671096e-02, 3.32225914e-03,\n",
       "         9.96677741e-03],\n",
       "        [5.00664452e+00, 5.40863787e+00, 4.38538206e-01, 3.65448505e-02,\n",
       "         1.09634551e-01],\n",
       "        [9.10299003e-01, 9.83388704e-01, 7.97342193e-02, 6.64451827e-03,\n",
       "         1.99335548e-02],\n",
       "        [5.91694352e+00, 6.39202658e+00, 5.18272425e-01, 4.31893688e-02,\n",
       "         1.29568106e-01],\n",
       "        [4.55149502e-01, 4.91694352e-01, 3.98671096e-02, 3.32225914e-03,\n",
       "         9.96677741e-03],\n",
       "        [4.55149502e-01, 4.91694352e-01, 3.98671096e-02, 3.32225914e-03,\n",
       "         9.96677741e-03],\n",
       "        [1.77508306e+01, 1.91760797e+01, 1.55481728e+00, 1.29568106e-01,\n",
       "         3.88704319e-01],\n",
       "        [4.55149502e-01, 4.91694352e-01, 3.98671096e-02, 3.32225914e-03,\n",
       "         9.96677741e-03],\n",
       "        [9.64916944e+01, 1.04239203e+02, 8.45182724e+00, 7.04318937e-01,\n",
       "         2.11295681e+00],\n",
       "        [4.55149502e-01, 4.91694352e-01, 3.98671096e-02, 3.32225914e-03,\n",
       "         9.96677741e-03]]))"
      ]
     },
     "execution_count": 58,
     "metadata": {},
     "output_type": "execute_result"
    }
   ],
   "source": [
    "# data prep for chi square test\n",
    "obs = pd.crosstab( film.Hear_About,film.Overall )\n",
    "\n",
    "# Ho: No relationship, independant\n",
    "# Ha: variables are related, dependant\n",
    "   \n",
    "# CI: 95%\n",
    "# p: 0.05\n",
    "  \n",
    "\n",
    "# perform the test\n",
    "\n",
    "stats.chi2_contingency( obs )\n",
    "\n",
    "# business conclusion\n",
    "# overall staifaction is depending on Gender"
   ]
  },
  {
   "cell_type": "markdown",
   "id": "f9e2ffd1",
   "metadata": {},
   "source": [
    "Conclusion"
   ]
  },
  {
   "cell_type": "raw",
   "id": "98ecce72",
   "metadata": {},
   "source": [
    "We see that p value (0.9920532791201511) is greater than 0.05 i.e for 95% . Hence we not  rejecting Null Hypothesis\n",
    "Thus we conclude that Overall satisfaction is independent to Hear About.\n"
   ]
  },
  {
   "cell_type": "markdown",
   "id": "7d09e009",
   "metadata": {},
   "source": [
    "# Final Conclusion"
   ]
  },
  {
   "cell_type": "raw",
   "id": "d15e77f8",
   "metadata": {},
   "source": [
    "From above observations we get the inference that Overall Satisfaction is depending on Sinage,Parking Rating and Cleaning Rating"
   ]
  },
  {
   "cell_type": "raw",
   "id": "2d884b8c",
   "metadata": {},
   "source": [
    " Finding what is the demographic profile of Film on the Rocks patrons"
   ]
  },
  {
   "cell_type": "code",
   "execution_count": 59,
   "id": "17ee4205",
   "metadata": {},
   "outputs": [
    {
     "name": "stdout",
     "output_type": "stream",
     "text": [
      "  Gender  count      Prob\n",
      "0      1    106  0.352159\n",
      "1      2    195  0.647841\n",
      "  AS Gender 2 is Female and 1 is male. That means their is 64% probability audiance is female\n"
     ]
    }
   ],
   "source": [
    "# Demography on Gender\n",
    "gender = film.groupby('Gender')[['Gender']].count()\n",
    "gender = gender.rename( columns={'Gender': 'count'}).reset_index()\n",
    "gender['Prob'] = gender['count'] / gender['count'].sum()\n",
    "print(gender)\n",
    "print('  AS Gender 2 is Female and 1 is male. That means their is 64% probability audiance is female')"
   ]
  },
  {
   "cell_type": "code",
   "execution_count": 60,
   "id": "df83f918",
   "metadata": {},
   "outputs": [
    {
     "name": "stdout",
     "output_type": "stream",
     "text": [
      "  Marital_Status  count      Prob\n",
      "0              1     91  0.302326\n",
      "1              2    210  0.697674\n",
      "  Their is 69% probability that the audiance is Single\n"
     ]
    }
   ],
   "source": [
    "#Demography on Martial Status\n",
    "Marital_Status = film.groupby('Marital_Status')[['Marital_Status']].count()\n",
    "Marital_Status = Marital_Status.rename( columns={'Marital_Status': 'count'}).reset_index()\n",
    "Marital_Status['Prob'] = Marital_Status['count'] / Marital_Status['count'].sum()\n",
    "print(Marital_Status)\n",
    "print('  Their is 69% probability that the audiance is Single')"
   ]
  },
  {
   "cell_type": "code",
   "execution_count": 61,
   "id": "8cb6542f",
   "metadata": {},
   "outputs": [
    {
     "name": "stdout",
     "output_type": "stream",
     "text": [
      "   Age  count      Prob\n",
      "0  1.0     22  0.073090\n",
      "1  2.0    164  0.544850\n",
      "2  3.0    108  0.358804\n",
      "3  4.0      7  0.023256\n",
      "  Their is 54% probability that the age of the audiance is between 13-30\n"
     ]
    }
   ],
   "source": [
    "#Demography on Age\n",
    "Age = film.groupby('Age')[['Age']].count()\n",
    "Age = Age.rename( columns={'Age': 'count'}).reset_index()\n",
    "Age['Prob'] = Age['count'] / Age['count'].sum()\n",
    "print(Age)\n",
    "print('  Their is 54% probability that the age of the audiance is between 13-30')"
   ]
  },
  {
   "cell_type": "code",
   "execution_count": 62,
   "id": "8425b7f3",
   "metadata": {},
   "outputs": [
    {
     "name": "stdout",
     "output_type": "stream",
     "text": [
      "   Income  count      Prob\n",
      "0     1.0    135  0.448505\n",
      "1     2.0     80  0.265781\n",
      "2     3.0     86  0.285714\n",
      "  Their is 44% probability that the Income of the audiance is less than 50K\n"
     ]
    }
   ],
   "source": [
    "#Demography on Income\n",
    "Income = film.groupby('Income')[['Income']].count()\n",
    "Income = Income.rename( columns={'Income': 'count'}).reset_index()\n",
    "Income['Prob'] = Income['count'] / Income['count'].sum()\n",
    "print(Income)\n",
    "print('  Their is 44% probability that the Income of the audiance is less than 50K')"
   ]
  },
  {
   "cell_type": "raw",
   "id": "fcdf61ac",
   "metadata": {},
   "source": [
    "Finding in what media outlet(s) should the film series be advertised"
   ]
  },
  {
   "cell_type": "code",
   "execution_count": 63,
   "id": "b2ac7009",
   "metadata": {},
   "outputs": [
    {
     "name": "stdout",
     "output_type": "stream",
     "text": [
      "   Hear_About  count      Prob\n",
      "9           5    212  0.704319\n",
      "7           4     39  0.129568\n",
      "0           1     19  0.063123\n",
      "4           3     13  0.043189\n",
      "2           2     11  0.036545\n",
      "3         2,5      2  0.006645\n",
      "1         1,5      1  0.003322\n",
      "5         3,4      1  0.003322\n",
      "6         3,5      1  0.003322\n",
      "8         4,5      1  0.003322\n",
      "10        5,4      1  0.003322\n",
      "  Their is 70% probability that the audiance heard about the film series solely through word of mouth.\n"
     ]
    }
   ],
   "source": [
    "Hear_About = film.groupby('Hear_About')[['Hear_About']].count()\n",
    "Hear_About = Hear_About.rename( columns={'Hear_About': 'count'}).reset_index()\n",
    "Hear_About['Prob'] = Hear_About['count'] / Hear_About['count'].sum()\n",
    "print(Hear_About.sort_values(by='Prob', ascending = False))\n",
    "print('  Their is 70% probability that the audiance heard about the film series solely through word of mouth.')"
   ]
  },
  {
   "cell_type": "code",
   "execution_count": null,
   "id": "b8a31a08",
   "metadata": {},
   "outputs": [],
   "source": []
  }
 ],
 "metadata": {
  "kernelspec": {
   "display_name": "Python 3 (ipykernel)",
   "language": "python",
   "name": "python3"
  },
  "language_info": {
   "codemirror_mode": {
    "name": "ipython",
    "version": 3
   },
   "file_extension": ".py",
   "mimetype": "text/x-python",
   "name": "python",
   "nbconvert_exporter": "python",
   "pygments_lexer": "ipython3",
   "version": "3.9.13"
  }
 },
 "nbformat": 4,
 "nbformat_minor": 5
}
